{
 "cells": [
  {
   "cell_type": "markdown",
   "metadata": {},
   "source": [
    "# Cleaning the data  \n",
    "  \n",
    "In this notebook, I will be loading in the datasets and be cleaning them and pre-processing them for analysis and modeling. This will involve combining datasets from two different sources. One from a Twitter archive and one from the FEC which records all individual campaign contributions for political candidates.  \n",
    "  \n",
    "The tweet dataset will have to be cleaned by combining tweets by day. Then the daily tweets just be pre-processed so that it can be more easily analyzed. This includes removing punctuation, getting rid of html, removing emojis and other none-text objects, and lower-casing. the dataset will also have to be count daily favorite counts and total tweets.  \n",
    "\n",
    "The campaign contribution contains a lot of information that will not be used in this project. I remove this extra information and then index both datasets by day.   \n",
    "\n",
    "The work flow is as follows:  \n",
    "  \n",
    "> - [Import Trump Twitter data](#importing_tweet_data)\n",
    "> - [Convert Twitter data into datetime](#twitter_date)\n",
    "> - [Aggregate tweets by day](#day_tweet)\n",
    "> - [Remove HTML and non-text](#remove)\n",
    "> - [Import campaign donations](#campaign)\n",
    "> - [Clean campaign dataset](#camp_clean)\n",
    "> - [Combine tweet and donation datasets](#combine)\n",
    "> - [Remove punctuation and lowercase tweets](#remove)\n",
    "> - [Export clean dataset](#export)\n",
    "> - [Conclusions](#conclusions)"
   ]
  },
  {
   "cell_type": "raw",
   "metadata": {},
   "source": [
    "#import libraries\n",
    "import pandas as pd\n",
    "import matplotlib.pyplot as plt\n",
    "import re\n",
    "import string\n",
    "from my_functions import remove_punctuation"
   ]
  },
  {
   "cell_type": "markdown",
   "metadata": {},
   "source": [
    "<a id='importing_tweet_data'></a>\n",
    "## Import Trump tweets.   \n",
    "\n",
    "> These are all historical tweets made by Donald Trump between Jan. 1, 2019 and June 30,2019. They do not include any of his re-tweets. Tweets were provided by [Trump Twitter Archive](http://www.trumptwitterarchive.com/archive)"
   ]
  },
  {
   "cell_type": "code",
   "execution_count": 2,
   "metadata": {},
   "outputs": [],
   "source": [
    "#Load trump tweets\n",
    "df_tweets= pd.read_csv('../datasets/trump_tweets.csv')"
   ]
  },
  {
   "cell_type": "code",
   "execution_count": 3,
   "metadata": {},
   "outputs": [
    {
     "data": {
      "text/html": [
       "<div>\n",
       "<style scoped>\n",
       "    .dataframe tbody tr th:only-of-type {\n",
       "        vertical-align: middle;\n",
       "    }\n",
       "\n",
       "    .dataframe tbody tr th {\n",
       "        vertical-align: top;\n",
       "    }\n",
       "\n",
       "    .dataframe thead th {\n",
       "        text-align: right;\n",
       "    }\n",
       "</style>\n",
       "<table border=\"1\" class=\"dataframe\">\n",
       "  <thead>\n",
       "    <tr style=\"text-align: right;\">\n",
       "      <th></th>\n",
       "      <th>text</th>\n",
       "      <th>created_at</th>\n",
       "      <th>favorite_count</th>\n",
       "      <th>is_retweet</th>\n",
       "      <th>id_str</th>\n",
       "    </tr>\n",
       "  </thead>\n",
       "  <tbody>\n",
       "    <tr>\n",
       "      <th>0</th>\n",
       "      <td>The leaders of virtually every country that I ...</td>\n",
       "      <td>06-30-2019 00:29:16</td>\n",
       "      <td>148261</td>\n",
       "      <td>False</td>\n",
       "      <td>1145127125512536065</td>\n",
       "    </tr>\n",
       "    <tr>\n",
       "      <th>1</th>\n",
       "      <td>The highly respected Farm Journal has just ann...</td>\n",
       "      <td>06-30-2019 00:07:39</td>\n",
       "      <td>101806</td>\n",
       "      <td>False</td>\n",
       "      <td>1145121683193421826</td>\n",
       "    </tr>\n",
       "    <tr>\n",
       "      <th>2</th>\n",
       "      <td>I am in South Korea now. President Moon and I ...</td>\n",
       "      <td>06-29-2019 22:35:12</td>\n",
       "      <td>114947</td>\n",
       "      <td>False</td>\n",
       "      <td>1145098417405923330</td>\n",
       "    </tr>\n",
       "    <tr>\n",
       "      <th>3</th>\n",
       "      <td>....again with China as our relationship with ...</td>\n",
       "      <td>06-29-2019 22:32:40</td>\n",
       "      <td>84014</td>\n",
       "      <td>False</td>\n",
       "      <td>1145097779632627712</td>\n",
       "    </tr>\n",
       "    <tr>\n",
       "      <th>4</th>\n",
       "      <td>....amounts of agricultural product from our g...</td>\n",
       "      <td>06-29-2019 22:32:39</td>\n",
       "      <td>80205</td>\n",
       "      <td>False</td>\n",
       "      <td>1145097776658812929</td>\n",
       "    </tr>\n",
       "  </tbody>\n",
       "</table>\n",
       "</div>"
      ],
      "text/plain": [
       "                                                text           created_at  \\\n",
       "0  The leaders of virtually every country that I ...  06-30-2019 00:29:16   \n",
       "1  The highly respected Farm Journal has just ann...  06-30-2019 00:07:39   \n",
       "2  I am in South Korea now. President Moon and I ...  06-29-2019 22:35:12   \n",
       "3  ....again with China as our relationship with ...  06-29-2019 22:32:40   \n",
       "4  ....amounts of agricultural product from our g...  06-29-2019 22:32:39   \n",
       "\n",
       "   favorite_count  is_retweet               id_str  \n",
       "0          148261       False  1145127125512536065  \n",
       "1          101806       False  1145121683193421826  \n",
       "2          114947       False  1145098417405923330  \n",
       "3           84014       False  1145097779632627712  \n",
       "4           80205       False  1145097776658812929  "
      ]
     },
     "execution_count": 3,
     "metadata": {},
     "output_type": "execute_result"
    }
   ],
   "source": [
    "df_tweets.head()"
   ]
  },
  {
   "cell_type": "code",
   "execution_count": 4,
   "metadata": {},
   "outputs": [
    {
     "data": {
      "text/html": [
       "<div>\n",
       "<style scoped>\n",
       "    .dataframe tbody tr th:only-of-type {\n",
       "        vertical-align: middle;\n",
       "    }\n",
       "\n",
       "    .dataframe tbody tr th {\n",
       "        vertical-align: top;\n",
       "    }\n",
       "\n",
       "    .dataframe thead th {\n",
       "        text-align: right;\n",
       "    }\n",
       "</style>\n",
       "<table border=\"1\" class=\"dataframe\">\n",
       "  <thead>\n",
       "    <tr style=\"text-align: right;\">\n",
       "      <th></th>\n",
       "      <th>text</th>\n",
       "      <th>created_at</th>\n",
       "      <th>favorite_count</th>\n",
       "      <th>is_retweet</th>\n",
       "      <th>id_str</th>\n",
       "    </tr>\n",
       "  </thead>\n",
       "  <tbody>\n",
       "    <tr>\n",
       "      <th>1855</th>\n",
       "      <td>“General” McChrystal got fired like a dog by O...</td>\n",
       "      <td>01-01-2019 15:32:30</td>\n",
       "      <td>69306</td>\n",
       "      <td>False</td>\n",
       "      <td>1080124615920373760</td>\n",
       "    </tr>\n",
       "    <tr>\n",
       "      <th>1856</th>\n",
       "      <td>The Democrats much as I suspected have allocat...</td>\n",
       "      <td>01-01-2019 14:32:01</td>\n",
       "      <td>101836</td>\n",
       "      <td>False</td>\n",
       "      <td>1080109395357380613</td>\n",
       "    </tr>\n",
       "    <tr>\n",
       "      <th>1857</th>\n",
       "      <td>Happy New Year!</td>\n",
       "      <td>01-01-2019 14:25:32</td>\n",
       "      <td>277623</td>\n",
       "      <td>False</td>\n",
       "      <td>1080107759755034624</td>\n",
       "    </tr>\n",
       "    <tr>\n",
       "      <th>1858</th>\n",
       "      <td>HAPPY NEW YEAR TO EVERYONE INCLUDING THE HATER...</td>\n",
       "      <td>01-01-2019 13:08:29</td>\n",
       "      <td>256114</td>\n",
       "      <td>False</td>\n",
       "      <td>1080088373451206656</td>\n",
       "    </tr>\n",
       "    <tr>\n",
       "      <th>1859</th>\n",
       "      <td>Dr. Sebastian Gorka a very good and talented g...</td>\n",
       "      <td>01-01-2019 12:51:34</td>\n",
       "      <td>76622</td>\n",
       "      <td>False</td>\n",
       "      <td>1080084113762197504</td>\n",
       "    </tr>\n",
       "  </tbody>\n",
       "</table>\n",
       "</div>"
      ],
      "text/plain": [
       "                                                   text           created_at  \\\n",
       "1855  “General” McChrystal got fired like a dog by O...  01-01-2019 15:32:30   \n",
       "1856  The Democrats much as I suspected have allocat...  01-01-2019 14:32:01   \n",
       "1857                                    Happy New Year!  01-01-2019 14:25:32   \n",
       "1858  HAPPY NEW YEAR TO EVERYONE INCLUDING THE HATER...  01-01-2019 13:08:29   \n",
       "1859  Dr. Sebastian Gorka a very good and talented g...  01-01-2019 12:51:34   \n",
       "\n",
       "      favorite_count  is_retweet               id_str  \n",
       "1855           69306       False  1080124615920373760  \n",
       "1856          101836       False  1080109395357380613  \n",
       "1857          277623       False  1080107759755034624  \n",
       "1858          256114       False  1080088373451206656  \n",
       "1859           76622       False  1080084113762197504  "
      ]
     },
     "execution_count": 4,
     "metadata": {},
     "output_type": "execute_result"
    }
   ],
   "source": [
    "df_tweets.tail()"
   ]
  },
  {
   "cell_type": "code",
   "execution_count": 5,
   "metadata": {},
   "outputs": [
    {
     "name": "stdout",
     "output_type": "stream",
     "text": [
      "<class 'pandas.core.frame.DataFrame'>\n",
      "RangeIndex: 1860 entries, 0 to 1859\n",
      "Data columns (total 5 columns):\n",
      "text              1860 non-null object\n",
      "created_at        1860 non-null object\n",
      "favorite_count    1860 non-null int64\n",
      "is_retweet        1860 non-null bool\n",
      "id_str            1860 non-null int64\n",
      "dtypes: bool(1), int64(2), object(2)\n",
      "memory usage: 60.0+ KB\n"
     ]
    }
   ],
   "source": [
    "df_tweets.info()"
   ]
  },
  {
   "cell_type": "markdown",
   "metadata": {},
   "source": [
    "> A quick glance at the data suggests that it is pretty clean the only thing immediately sticking out is the changing the created_at column to a datetime object and setting it as the index. \n",
    "<a id='twitter_date'></a>"
   ]
  },
  {
   "cell_type": "code",
   "execution_count": 6,
   "metadata": {},
   "outputs": [],
   "source": [
    "df_tweets['Date']= pd.to_datetime(df_tweets['created_at'])"
   ]
  },
  {
   "cell_type": "code",
   "execution_count": 7,
   "metadata": {},
   "outputs": [],
   "source": [
    "df_tweets.set_index('Date', inplace=True)\n",
    "df_tweets.sort_index(inplace=True,ascending=True)"
   ]
  },
  {
   "cell_type": "code",
   "execution_count": 8,
   "metadata": {},
   "outputs": [
    {
     "data": {
      "text/html": [
       "<div>\n",
       "<style scoped>\n",
       "    .dataframe tbody tr th:only-of-type {\n",
       "        vertical-align: middle;\n",
       "    }\n",
       "\n",
       "    .dataframe tbody tr th {\n",
       "        vertical-align: top;\n",
       "    }\n",
       "\n",
       "    .dataframe thead th {\n",
       "        text-align: right;\n",
       "    }\n",
       "</style>\n",
       "<table border=\"1\" class=\"dataframe\">\n",
       "  <thead>\n",
       "    <tr style=\"text-align: right;\">\n",
       "      <th></th>\n",
       "      <th>text</th>\n",
       "      <th>created_at</th>\n",
       "      <th>favorite_count</th>\n",
       "      <th>is_retweet</th>\n",
       "      <th>id_str</th>\n",
       "    </tr>\n",
       "    <tr>\n",
       "      <th>Date</th>\n",
       "      <th></th>\n",
       "      <th></th>\n",
       "      <th></th>\n",
       "      <th></th>\n",
       "      <th></th>\n",
       "    </tr>\n",
       "  </thead>\n",
       "  <tbody>\n",
       "    <tr>\n",
       "      <th>2019-01-01 12:51:34</th>\n",
       "      <td>Dr. Sebastian Gorka a very good and talented g...</td>\n",
       "      <td>01-01-2019 12:51:34</td>\n",
       "      <td>76622</td>\n",
       "      <td>False</td>\n",
       "      <td>1080084113762197504</td>\n",
       "    </tr>\n",
       "    <tr>\n",
       "      <th>2019-01-01 13:08:29</th>\n",
       "      <td>HAPPY NEW YEAR TO EVERYONE INCLUDING THE HATER...</td>\n",
       "      <td>01-01-2019 13:08:29</td>\n",
       "      <td>256114</td>\n",
       "      <td>False</td>\n",
       "      <td>1080088373451206656</td>\n",
       "    </tr>\n",
       "    <tr>\n",
       "      <th>2019-01-01 14:25:32</th>\n",
       "      <td>Happy New Year!</td>\n",
       "      <td>01-01-2019 14:25:32</td>\n",
       "      <td>277623</td>\n",
       "      <td>False</td>\n",
       "      <td>1080107759755034624</td>\n",
       "    </tr>\n",
       "    <tr>\n",
       "      <th>2019-01-01 14:32:01</th>\n",
       "      <td>The Democrats much as I suspected have allocat...</td>\n",
       "      <td>01-01-2019 14:32:01</td>\n",
       "      <td>101836</td>\n",
       "      <td>False</td>\n",
       "      <td>1080109395357380613</td>\n",
       "    </tr>\n",
       "    <tr>\n",
       "      <th>2019-01-01 15:32:30</th>\n",
       "      <td>“General” McChrystal got fired like a dog by O...</td>\n",
       "      <td>01-01-2019 15:32:30</td>\n",
       "      <td>69306</td>\n",
       "      <td>False</td>\n",
       "      <td>1080124615920373760</td>\n",
       "    </tr>\n",
       "  </tbody>\n",
       "</table>\n",
       "</div>"
      ],
      "text/plain": [
       "                                                                  text  \\\n",
       "Date                                                                     \n",
       "2019-01-01 12:51:34  Dr. Sebastian Gorka a very good and talented g...   \n",
       "2019-01-01 13:08:29  HAPPY NEW YEAR TO EVERYONE INCLUDING THE HATER...   \n",
       "2019-01-01 14:25:32                                    Happy New Year!   \n",
       "2019-01-01 14:32:01  The Democrats much as I suspected have allocat...   \n",
       "2019-01-01 15:32:30  “General” McChrystal got fired like a dog by O...   \n",
       "\n",
       "                              created_at  favorite_count  is_retweet  \\\n",
       "Date                                                                   \n",
       "2019-01-01 12:51:34  01-01-2019 12:51:34           76622       False   \n",
       "2019-01-01 13:08:29  01-01-2019 13:08:29          256114       False   \n",
       "2019-01-01 14:25:32  01-01-2019 14:25:32          277623       False   \n",
       "2019-01-01 14:32:01  01-01-2019 14:32:01          101836       False   \n",
       "2019-01-01 15:32:30  01-01-2019 15:32:30           69306       False   \n",
       "\n",
       "                                  id_str  \n",
       "Date                                      \n",
       "2019-01-01 12:51:34  1080084113762197504  \n",
       "2019-01-01 13:08:29  1080088373451206656  \n",
       "2019-01-01 14:25:32  1080107759755034624  \n",
       "2019-01-01 14:32:01  1080109395357380613  \n",
       "2019-01-01 15:32:30  1080124615920373760  "
      ]
     },
     "execution_count": 8,
     "metadata": {},
     "output_type": "execute_result"
    }
   ],
   "source": [
    "df_tweets.head()"
   ]
  },
  {
   "cell_type": "markdown",
   "metadata": {},
   "source": [
    ">None of the rows in is_retweet is 'True' so that column and 'id_str' can be dropped. Also, the donation dataset is only granular down to the day. I will group all tweets from one day into a single string. The favorite_count will also be summed per day. "
   ]
  },
  {
   "cell_type": "code",
   "execution_count": 9,
   "metadata": {},
   "outputs": [],
   "source": [
    "df_tweets.drop(columns=['created_at','is_retweet','id_str'],inplace = True)"
   ]
  },
  {
   "cell_type": "code",
   "execution_count": 10,
   "metadata": {
    "scrolled": false
   },
   "outputs": [
    {
     "data": {
      "text/html": [
       "<div>\n",
       "<style scoped>\n",
       "    .dataframe tbody tr th:only-of-type {\n",
       "        vertical-align: middle;\n",
       "    }\n",
       "\n",
       "    .dataframe tbody tr th {\n",
       "        vertical-align: top;\n",
       "    }\n",
       "\n",
       "    .dataframe thead th {\n",
       "        text-align: right;\n",
       "    }\n",
       "</style>\n",
       "<table border=\"1\" class=\"dataframe\">\n",
       "  <thead>\n",
       "    <tr style=\"text-align: right;\">\n",
       "      <th></th>\n",
       "      <th>text</th>\n",
       "      <th>favorite_count</th>\n",
       "    </tr>\n",
       "    <tr>\n",
       "      <th>Date</th>\n",
       "      <th></th>\n",
       "      <th></th>\n",
       "    </tr>\n",
       "  </thead>\n",
       "  <tbody>\n",
       "    <tr>\n",
       "      <th>2019-01-01 12:51:34</th>\n",
       "      <td>Dr. Sebastian Gorka a very good and talented g...</td>\n",
       "      <td>76622</td>\n",
       "    </tr>\n",
       "    <tr>\n",
       "      <th>2019-01-01 13:08:29</th>\n",
       "      <td>HAPPY NEW YEAR TO EVERYONE INCLUDING THE HATER...</td>\n",
       "      <td>256114</td>\n",
       "    </tr>\n",
       "    <tr>\n",
       "      <th>2019-01-01 14:25:32</th>\n",
       "      <td>Happy New Year!</td>\n",
       "      <td>277623</td>\n",
       "    </tr>\n",
       "    <tr>\n",
       "      <th>2019-01-01 14:32:01</th>\n",
       "      <td>The Democrats much as I suspected have allocat...</td>\n",
       "      <td>101836</td>\n",
       "    </tr>\n",
       "    <tr>\n",
       "      <th>2019-01-01 15:32:30</th>\n",
       "      <td>“General” McChrystal got fired like a dog by O...</td>\n",
       "      <td>69306</td>\n",
       "    </tr>\n",
       "  </tbody>\n",
       "</table>\n",
       "</div>"
      ],
      "text/plain": [
       "                                                                  text  \\\n",
       "Date                                                                     \n",
       "2019-01-01 12:51:34  Dr. Sebastian Gorka a very good and talented g...   \n",
       "2019-01-01 13:08:29  HAPPY NEW YEAR TO EVERYONE INCLUDING THE HATER...   \n",
       "2019-01-01 14:25:32                                    Happy New Year!   \n",
       "2019-01-01 14:32:01  The Democrats much as I suspected have allocat...   \n",
       "2019-01-01 15:32:30  “General” McChrystal got fired like a dog by O...   \n",
       "\n",
       "                     favorite_count  \n",
       "Date                                 \n",
       "2019-01-01 12:51:34           76622  \n",
       "2019-01-01 13:08:29          256114  \n",
       "2019-01-01 14:25:32          277623  \n",
       "2019-01-01 14:32:01          101836  \n",
       "2019-01-01 15:32:30           69306  "
      ]
     },
     "execution_count": 10,
     "metadata": {},
     "output_type": "execute_result"
    }
   ],
   "source": [
    "df_tweets.head()"
   ]
  },
  {
   "cell_type": "markdown",
   "metadata": {},
   "source": [
    "<a id='day_tweet'></a>"
   ]
  },
  {
   "cell_type": "code",
   "execution_count": 11,
   "metadata": {},
   "outputs": [],
   "source": [
    "count_df= df_tweets.resample('D')[['text']].count()"
   ]
  },
  {
   "cell_type": "code",
   "execution_count": 12,
   "metadata": {},
   "outputs": [],
   "source": [
    "count_df.columns= ['tweet_count']"
   ]
  },
  {
   "cell_type": "code",
   "execution_count": 13,
   "metadata": {},
   "outputs": [],
   "source": [
    "#Join all the tweets for each day.\n",
    "df_text= df_tweets.resample('D').agg(' '.join)"
   ]
  },
  {
   "cell_type": "code",
   "execution_count": 14,
   "metadata": {},
   "outputs": [],
   "source": [
    "#Sum all favorite counts perday for all tweets.\n",
    "df_fav= df_tweets.resample('D').sum()\n",
    "\n",
    "#Merge the aggregated daily tweets and favorite counts into one dataset.\n",
    "tweet_df= df_text.merge(df_fav,left_index=True,right_index=True)"
   ]
  },
  {
   "cell_type": "code",
   "execution_count": 15,
   "metadata": {},
   "outputs": [
    {
     "data": {
      "text/html": [
       "<div>\n",
       "<style scoped>\n",
       "    .dataframe tbody tr th:only-of-type {\n",
       "        vertical-align: middle;\n",
       "    }\n",
       "\n",
       "    .dataframe tbody tr th {\n",
       "        vertical-align: top;\n",
       "    }\n",
       "\n",
       "    .dataframe thead th {\n",
       "        text-align: right;\n",
       "    }\n",
       "</style>\n",
       "<table border=\"1\" class=\"dataframe\">\n",
       "  <thead>\n",
       "    <tr style=\"text-align: right;\">\n",
       "      <th></th>\n",
       "      <th>text</th>\n",
       "      <th>favorite_count</th>\n",
       "    </tr>\n",
       "    <tr>\n",
       "      <th>Date</th>\n",
       "      <th></th>\n",
       "      <th></th>\n",
       "    </tr>\n",
       "  </thead>\n",
       "  <tbody>\n",
       "    <tr>\n",
       "      <th>2019-01-01</th>\n",
       "      <td>Dr. Sebastian Gorka a very good and talented g...</td>\n",
       "      <td>1827632</td>\n",
       "    </tr>\n",
       "    <tr>\n",
       "      <th>2019-01-02</th>\n",
       "      <td>For FAR TOO LONG Senate Democrats have been Ob...</td>\n",
       "      <td>431747</td>\n",
       "    </tr>\n",
       "    <tr>\n",
       "      <th>2019-01-03</th>\n",
       "      <td>Important meeting today on Border Security wit...</td>\n",
       "      <td>1091820</td>\n",
       "    </tr>\n",
       "    <tr>\n",
       "      <th>2019-01-04</th>\n",
       "      <td>Michael Pillsbury interviewed by @cvpayne: “Th...</td>\n",
       "      <td>942401</td>\n",
       "    </tr>\n",
       "    <tr>\n",
       "      <th>2019-01-05</th>\n",
       "      <td>Great new book by Dr. Robert Jeffress “Choosin...</td>\n",
       "      <td>1247133</td>\n",
       "    </tr>\n",
       "  </tbody>\n",
       "</table>\n",
       "</div>"
      ],
      "text/plain": [
       "                                                         text  favorite_count\n",
       "Date                                                                         \n",
       "2019-01-01  Dr. Sebastian Gorka a very good and talented g...         1827632\n",
       "2019-01-02  For FAR TOO LONG Senate Democrats have been Ob...          431747\n",
       "2019-01-03  Important meeting today on Border Security wit...         1091820\n",
       "2019-01-04  Michael Pillsbury interviewed by @cvpayne: “Th...          942401\n",
       "2019-01-05  Great new book by Dr. Robert Jeffress “Choosin...         1247133"
      ]
     },
     "execution_count": 15,
     "metadata": {},
     "output_type": "execute_result"
    }
   ],
   "source": [
    "tweet_df.head()"
   ]
  },
  {
   "cell_type": "code",
   "execution_count": 16,
   "metadata": {
    "scrolled": true
   },
   "outputs": [],
   "source": [
    "tweet_df= tweet_df.merge(count_df,left_index=True,right_index=True)"
   ]
  },
  {
   "cell_type": "markdown",
   "metadata": {},
   "source": [
    "### Confirm daily tweets have been aggregated daily."
   ]
  },
  {
   "cell_type": "code",
   "execution_count": 17,
   "metadata": {},
   "outputs": [
    {
     "data": {
      "text/plain": [
       "'Dr. Sebastian Gorka a very good and talented guy has a great new book just out “Why We Fight.” Lots of insight - Enjoy! HAPPY NEW YEAR TO EVERYONE INCLUDING THE HATERS AND THE FAKE NEWS MEDIA! 2019 WILL BE A FANTASTIC YEAR FOR THOSE NOT SUFFERING FROM TRUMP DERANGEMENT SYNDROME. JUST CALM DOWN AND ENJOY THE RIDE GREAT THINGS ARE HAPPENING FOR OUR COUNTRY! Happy New Year! The Democrats much as I suspected have allocated no money for a new Wall. So imaginative! The problem is without a Wall there can be no real Border Security - and our Country must finally have a Strong and Secure Southern Border! “General” McChrystal got fired like a dog by Obama. Last assignment a total bust. Known for big dumb mouth. Hillary lover! https://t.co/RzOkeHl3KV One thing has now been proven. The Democrats do not care about Open Borders and all of the crime and drugs that Open Borders bring! Congratulations to President @JairBolsonaro who just made a great inauguration speech - the U.S.A. is with you! Border Security and the Wall “thing” and Shutdown is not where Nancy Pelosi wanted to start her tenure as Speaker! Let’s make a deal? Gas prices are low and expected to go down this year. This would be good! Washington Examiner - “MAGA list: 205 ‘historic results’ help Trump make case for 2020 re-election.”  True! “Kim Jong Un says North Korea will not make or test nuclear weapons or give them to others - &amp; he is ready to meet President Trump anytime.” PBS News Hour. I also look forward to meeting with Chairman Kim who realizes so well that North Korea possesses great economic potential! Do you think it’s just luck that gas prices are so low and falling? Low gas prices are like another Tax Cut!'"
      ]
     },
     "execution_count": 17,
     "metadata": {},
     "output_type": "execute_result"
    }
   ],
   "source": [
    "tweet_df.loc['2019-01-01']['text']"
   ]
  },
  {
   "cell_type": "markdown",
   "metadata": {},
   "source": [
    "<a id='remove'></a>\n",
    ">There is some html in the tweets that might just add noise to my model. Below I remove it. "
   ]
  },
  {
   "cell_type": "code",
   "execution_count": 18,
   "metadata": {},
   "outputs": [],
   "source": [
    "#Remove html from tweet text.\n",
    "tweet_df['text']= tweet_df['text'].apply(lambda text:re.sub(r'\\w+:\\/{2}[\\d\\w-]+(\\.[\\d\\w-]+)*(?:(?:\\/[^\\s/]*))*', '', text))\n"
   ]
  },
  {
   "cell_type": "code",
   "execution_count": 19,
   "metadata": {
    "scrolled": false
   },
   "outputs": [
    {
     "data": {
      "text/plain": [
       "'Dr. Sebastian Gorka a very good and talented guy has a great new book just out “Why We Fight.” Lots of insight - Enjoy! HAPPY NEW YEAR TO EVERYONE INCLUDING THE HATERS AND THE FAKE NEWS MEDIA! 2019 WILL BE A FANTASTIC YEAR FOR THOSE NOT SUFFERING FROM TRUMP DERANGEMENT SYNDROME. JUST CALM DOWN AND ENJOY THE RIDE GREAT THINGS ARE HAPPENING FOR OUR COUNTRY! Happy New Year! The Democrats much as I suspected have allocated no money for a new Wall. So imaginative! The problem is without a Wall there can be no real Border Security - and our Country must finally have a Strong and Secure Southern Border! “General” McChrystal got fired like a dog by Obama. Last assignment a total bust. Known for big dumb mouth. Hillary lover!  One thing has now been proven. The Democrats do not care about Open Borders and all of the crime and drugs that Open Borders bring! Congratulations to President @JairBolsonaro who just made a great inauguration speech - the U.S.A. is with you! Border Security and the Wall “thing” and Shutdown is not where Nancy Pelosi wanted to start her tenure as Speaker! Let’s make a deal? Gas prices are low and expected to go down this year. This would be good! Washington Examiner - “MAGA list: 205 ‘historic results’ help Trump make case for 2020 re-election.”  True! “Kim Jong Un says North Korea will not make or test nuclear weapons or give them to others - &amp; he is ready to meet President Trump anytime.” PBS News Hour. I also look forward to meeting with Chairman Kim who realizes so well that North Korea possesses great economic potential! Do you think it’s just luck that gas prices are so low and falling? Low gas prices are like another Tax Cut!'"
      ]
     },
     "execution_count": 19,
     "metadata": {},
     "output_type": "execute_result"
    }
   ],
   "source": [
    "tweet_df['text'][0]"
   ]
  },
  {
   "cell_type": "markdown",
   "metadata": {},
   "source": [
    "> HTML has been removed."
   ]
  },
  {
   "cell_type": "code",
   "execution_count": 20,
   "metadata": {},
   "outputs": [],
   "source": [
    "#Remove all emojis from tweet texts.\n",
    "rgx = re.compile('[^' + ''.join(string.printable) + ']')\n",
    "tweet_df['text']= tweet_df['text'].apply(lambda text:rgx.sub('', text))\n"
   ]
  },
  {
   "cell_type": "markdown",
   "metadata": {},
   "source": [
    "<a id='campaign'></a>\n",
    "## Import Trump campaign donation dataset"
   ]
  },
  {
   "cell_type": "markdown",
   "metadata": {},
   "source": [
    "> The donations dataset was gathered from the Federal Elections Commission(FEC) website found [here](https://www.fec.gov/data/receipts/individual-contributions/?committee_id=C00580100&two_year_transaction_period=2020&min_date=01%2F01%2F2019&max_date=12%2F31%2F2019). The full dataset includes all information about individual donations to Trump's campaign from Jan 1, 2019 to June 30, 2019. "
   ]
  },
  {
   "cell_type": "code",
   "execution_count": 21,
   "metadata": {},
   "outputs": [
    {
     "name": "stderr",
     "output_type": "stream",
     "text": [
      "/anaconda3/lib/python3.7/site-packages/IPython/core/interactiveshell.py:3020: DtypeWarning: Columns (5,11,28,29,56) have mixed types. Specify dtype option on import or set low_memory=False.\n",
      "  interactivity=interactivity, compiler=compiler, result=result)\n"
     ]
    }
   ],
   "source": [
    "#Load in dataset of all Trump's donations.\n",
    "df_donations= pd.read_csv('../datasets/schedule_a-2019-08-07T17_19_59.csv')"
   ]
  },
  {
   "cell_type": "code",
   "execution_count": 22,
   "metadata": {
    "scrolled": true
   },
   "outputs": [
    {
     "data": {
      "text/plain": [
       "(373615, 79)"
      ]
     },
     "execution_count": 22,
     "metadata": {},
     "output_type": "execute_result"
    }
   ],
   "source": [
    "df_donations.shape"
   ]
  },
  {
   "cell_type": "code",
   "execution_count": 23,
   "metadata": {},
   "outputs": [
    {
     "data": {
      "text/html": [
       "<div>\n",
       "<style scoped>\n",
       "    .dataframe tbody tr th:only-of-type {\n",
       "        vertical-align: middle;\n",
       "    }\n",
       "\n",
       "    .dataframe tbody tr th {\n",
       "        vertical-align: top;\n",
       "    }\n",
       "\n",
       "    .dataframe thead th {\n",
       "        text-align: right;\n",
       "    }\n",
       "</style>\n",
       "<table border=\"1\" class=\"dataframe\">\n",
       "  <thead>\n",
       "    <tr style=\"text-align: right;\">\n",
       "      <th></th>\n",
       "      <th>committee_id</th>\n",
       "      <th>committee_name</th>\n",
       "      <th>report_year</th>\n",
       "      <th>report_type</th>\n",
       "      <th>image_number</th>\n",
       "      <th>line_number</th>\n",
       "      <th>transaction_id</th>\n",
       "      <th>file_number</th>\n",
       "      <th>committee_name.1</th>\n",
       "      <th>entity_type</th>\n",
       "      <th>...</th>\n",
       "      <th>filing_form</th>\n",
       "      <th>link_id</th>\n",
       "      <th>is_individual</th>\n",
       "      <th>memo_text</th>\n",
       "      <th>two_year_transaction_period</th>\n",
       "      <th>schedule_type</th>\n",
       "      <th>increased_limit</th>\n",
       "      <th>sub_id</th>\n",
       "      <th>pdf_url</th>\n",
       "      <th>line_number_label</th>\n",
       "    </tr>\n",
       "  </thead>\n",
       "  <tbody>\n",
       "    <tr>\n",
       "      <th>0</th>\n",
       "      <td>C00580100</td>\n",
       "      <td>DONALD J. TRUMP FOR PRESIDENT, INC.</td>\n",
       "      <td>2019</td>\n",
       "      <td>Q1</td>\n",
       "      <td>201907089150471229</td>\n",
       "      <td>17A</td>\n",
       "      <td>SA17A.82963</td>\n",
       "      <td>1337251</td>\n",
       "      <td>NaN</td>\n",
       "      <td>IND</td>\n",
       "      <td>...</td>\n",
       "      <td>F3P</td>\n",
       "      <td>4071020191659100254</td>\n",
       "      <td>t</td>\n",
       "      <td>NaN</td>\n",
       "      <td>2020</td>\n",
       "      <td>SA</td>\n",
       "      <td>NaN</td>\n",
       "      <td>4071920191660307605</td>\n",
       "      <td>http://docquery.fec.gov/cgi-bin/fecimg/?201907...</td>\n",
       "      <td>Contributions From Individuals/Persons Other T...</td>\n",
       "    </tr>\n",
       "    <tr>\n",
       "      <th>1</th>\n",
       "      <td>C00580100</td>\n",
       "      <td>DONALD J. TRUMP FOR PRESIDENT, INC.</td>\n",
       "      <td>2019</td>\n",
       "      <td>Q1</td>\n",
       "      <td>201907089150471229</td>\n",
       "      <td>17A</td>\n",
       "      <td>SA17A.91141</td>\n",
       "      <td>1337251</td>\n",
       "      <td>NaN</td>\n",
       "      <td>IND</td>\n",
       "      <td>...</td>\n",
       "      <td>F3P</td>\n",
       "      <td>4071020191659100254</td>\n",
       "      <td>t</td>\n",
       "      <td>NaN</td>\n",
       "      <td>2020</td>\n",
       "      <td>SA</td>\n",
       "      <td>NaN</td>\n",
       "      <td>4071920191660307606</td>\n",
       "      <td>http://docquery.fec.gov/cgi-bin/fecimg/?201907...</td>\n",
       "      <td>Contributions From Individuals/Persons Other T...</td>\n",
       "    </tr>\n",
       "    <tr>\n",
       "      <th>2</th>\n",
       "      <td>C00580100</td>\n",
       "      <td>DONALD J. TRUMP FOR PRESIDENT, INC.</td>\n",
       "      <td>2019</td>\n",
       "      <td>Q1</td>\n",
       "      <td>201907089150471230</td>\n",
       "      <td>17A</td>\n",
       "      <td>SA17A.91142</td>\n",
       "      <td>1337251</td>\n",
       "      <td>NaN</td>\n",
       "      <td>IND</td>\n",
       "      <td>...</td>\n",
       "      <td>F3P</td>\n",
       "      <td>4071020191659100254</td>\n",
       "      <td>t</td>\n",
       "      <td>NaN</td>\n",
       "      <td>2020</td>\n",
       "      <td>SA</td>\n",
       "      <td>NaN</td>\n",
       "      <td>4071920191660307607</td>\n",
       "      <td>http://docquery.fec.gov/cgi-bin/fecimg/?201907...</td>\n",
       "      <td>Contributions From Individuals/Persons Other T...</td>\n",
       "    </tr>\n",
       "    <tr>\n",
       "      <th>3</th>\n",
       "      <td>C00580100</td>\n",
       "      <td>DONALD J. TRUMP FOR PRESIDENT, INC.</td>\n",
       "      <td>2019</td>\n",
       "      <td>Q1</td>\n",
       "      <td>201907089150471230</td>\n",
       "      <td>17A</td>\n",
       "      <td>SA17A.91143</td>\n",
       "      <td>1337251</td>\n",
       "      <td>NaN</td>\n",
       "      <td>IND</td>\n",
       "      <td>...</td>\n",
       "      <td>F3P</td>\n",
       "      <td>4071020191659100254</td>\n",
       "      <td>t</td>\n",
       "      <td>NaN</td>\n",
       "      <td>2020</td>\n",
       "      <td>SA</td>\n",
       "      <td>NaN</td>\n",
       "      <td>4071920191660307608</td>\n",
       "      <td>http://docquery.fec.gov/cgi-bin/fecimg/?201907...</td>\n",
       "      <td>Contributions From Individuals/Persons Other T...</td>\n",
       "    </tr>\n",
       "    <tr>\n",
       "      <th>4</th>\n",
       "      <td>C00580100</td>\n",
       "      <td>DONALD J. TRUMP FOR PRESIDENT, INC.</td>\n",
       "      <td>2019</td>\n",
       "      <td>Q1</td>\n",
       "      <td>201907089150471230</td>\n",
       "      <td>17A</td>\n",
       "      <td>SA17A.52998</td>\n",
       "      <td>1337251</td>\n",
       "      <td>NaN</td>\n",
       "      <td>IND</td>\n",
       "      <td>...</td>\n",
       "      <td>F3P</td>\n",
       "      <td>4071020191659100254</td>\n",
       "      <td>t</td>\n",
       "      <td>NaN</td>\n",
       "      <td>2020</td>\n",
       "      <td>SA</td>\n",
       "      <td>NaN</td>\n",
       "      <td>4071920191660307609</td>\n",
       "      <td>http://docquery.fec.gov/cgi-bin/fecimg/?201907...</td>\n",
       "      <td>Contributions From Individuals/Persons Other T...</td>\n",
       "    </tr>\n",
       "  </tbody>\n",
       "</table>\n",
       "<p>5 rows × 79 columns</p>\n",
       "</div>"
      ],
      "text/plain": [
       "  committee_id                       committee_name  report_year report_type  \\\n",
       "0    C00580100  DONALD J. TRUMP FOR PRESIDENT, INC.         2019          Q1   \n",
       "1    C00580100  DONALD J. TRUMP FOR PRESIDENT, INC.         2019          Q1   \n",
       "2    C00580100  DONALD J. TRUMP FOR PRESIDENT, INC.         2019          Q1   \n",
       "3    C00580100  DONALD J. TRUMP FOR PRESIDENT, INC.         2019          Q1   \n",
       "4    C00580100  DONALD J. TRUMP FOR PRESIDENT, INC.         2019          Q1   \n",
       "\n",
       "         image_number line_number transaction_id  file_number  \\\n",
       "0  201907089150471229         17A    SA17A.82963      1337251   \n",
       "1  201907089150471229         17A    SA17A.91141      1337251   \n",
       "2  201907089150471230         17A    SA17A.91142      1337251   \n",
       "3  201907089150471230         17A    SA17A.91143      1337251   \n",
       "4  201907089150471230         17A    SA17A.52998      1337251   \n",
       "\n",
       "   committee_name.1 entity_type  \\\n",
       "0               NaN         IND   \n",
       "1               NaN         IND   \n",
       "2               NaN         IND   \n",
       "3               NaN         IND   \n",
       "4               NaN         IND   \n",
       "\n",
       "                         ...                         filing_form  \\\n",
       "0                        ...                                 F3P   \n",
       "1                        ...                                 F3P   \n",
       "2                        ...                                 F3P   \n",
       "3                        ...                                 F3P   \n",
       "4                        ...                                 F3P   \n",
       "\n",
       "               link_id is_individual memo_text two_year_transaction_period  \\\n",
       "0  4071020191659100254             t       NaN                        2020   \n",
       "1  4071020191659100254             t       NaN                        2020   \n",
       "2  4071020191659100254             t       NaN                        2020   \n",
       "3  4071020191659100254             t       NaN                        2020   \n",
       "4  4071020191659100254             t       NaN                        2020   \n",
       "\n",
       "   schedule_type increased_limit               sub_id  \\\n",
       "0             SA             NaN  4071920191660307605   \n",
       "1             SA             NaN  4071920191660307606   \n",
       "2             SA             NaN  4071920191660307607   \n",
       "3             SA             NaN  4071920191660307608   \n",
       "4             SA             NaN  4071920191660307609   \n",
       "\n",
       "                                             pdf_url  \\\n",
       "0  http://docquery.fec.gov/cgi-bin/fecimg/?201907...   \n",
       "1  http://docquery.fec.gov/cgi-bin/fecimg/?201907...   \n",
       "2  http://docquery.fec.gov/cgi-bin/fecimg/?201907...   \n",
       "3  http://docquery.fec.gov/cgi-bin/fecimg/?201907...   \n",
       "4  http://docquery.fec.gov/cgi-bin/fecimg/?201907...   \n",
       "\n",
       "                                   line_number_label  \n",
       "0  Contributions From Individuals/Persons Other T...  \n",
       "1  Contributions From Individuals/Persons Other T...  \n",
       "2  Contributions From Individuals/Persons Other T...  \n",
       "3  Contributions From Individuals/Persons Other T...  \n",
       "4  Contributions From Individuals/Persons Other T...  \n",
       "\n",
       "[5 rows x 79 columns]"
      ]
     },
     "execution_count": 23,
     "metadata": {},
     "output_type": "execute_result"
    }
   ],
   "source": [
    "df_donations.head()"
   ]
  },
  {
   "cell_type": "code",
   "execution_count": 24,
   "metadata": {
    "scrolled": true
   },
   "outputs": [
    {
     "data": {
      "text/plain": [
       "Index(['committee_id', 'committee_name', 'report_year', 'report_type',\n",
       "       'image_number', 'line_number', 'transaction_id', 'file_number',\n",
       "       'committee_name.1', 'entity_type', 'entity_type_desc',\n",
       "       'unused_contbr_id', 'contributor_prefix', 'contributor_name',\n",
       "       'recipient_committee_type', 'recipient_committee_org_type',\n",
       "       'recipient_committee_designation', 'contributor_first_name',\n",
       "       'contributor_middle_name', 'contributor_last_name',\n",
       "       'contributor_suffix', 'contributor_street_1', 'contributor_street_2',\n",
       "       'contributor_city', 'contributor_state', 'contributor_zip',\n",
       "       'contributor_employer', 'contributor_occupation', 'contributor_id',\n",
       "       'receipt_type', 'receipt_type_desc', 'receipt_type_full', 'memo_code',\n",
       "       'memo_code_full', 'contribution_receipt_date',\n",
       "       'contribution_receipt_amount', 'contributor_aggregate_ytd',\n",
       "       'candidate_id', 'candidate_name', 'candidate_first_name',\n",
       "       'candidate_last_name', 'candidate_middle_name', 'candidate_prefix',\n",
       "       'candidate_suffix', 'candidate_office', 'candidate_office_full',\n",
       "       'candidate_office_state', 'candidate_office_state_full',\n",
       "       'candidate_office_district', 'conduit_committee_id',\n",
       "       'conduit_committee_name', 'conduit_committee_street1',\n",
       "       'conduit_committee_street2', 'conduit_committee_city',\n",
       "       'conduit_committee_state', 'conduit_committee_zip',\n",
       "       'donor_committee_name', 'national_committee_nonfederal_account',\n",
       "       'election_type', 'election_type_full', 'fec_election_type_desc',\n",
       "       'fec_election_year', 'amendment_indicator', 'amendment_indicator_desc',\n",
       "       'schedule_type_full', 'load_date', 'original_sub_id',\n",
       "       'back_reference_transaction_id', 'back_reference_schedule_name',\n",
       "       'filing_form', 'link_id', 'is_individual', 'memo_text',\n",
       "       'two_year_transaction_period', 'schedule_type', 'increased_limit',\n",
       "       'sub_id', 'pdf_url', 'line_number_label'],\n",
       "      dtype='object')"
      ]
     },
     "execution_count": 24,
     "metadata": {},
     "output_type": "execute_result"
    }
   ],
   "source": [
    "df_donations.columns"
   ]
  },
  {
   "cell_type": "code",
   "execution_count": 25,
   "metadata": {
    "scrolled": true
   },
   "outputs": [
    {
     "name": "stdout",
     "output_type": "stream",
     "text": [
      "<class 'pandas.core.frame.DataFrame'>\n",
      "RangeIndex: 373615 entries, 0 to 373614\n",
      "Data columns (total 79 columns):\n",
      "committee_id                             373615 non-null object\n",
      "committee_name                           373615 non-null object\n",
      "report_year                              373615 non-null int64\n",
      "report_type                              373615 non-null object\n",
      "image_number                             373615 non-null int64\n",
      "line_number                              373615 non-null object\n",
      "transaction_id                           373615 non-null object\n",
      "file_number                              373615 non-null int64\n",
      "committee_name.1                         0 non-null float64\n",
      "entity_type                              373615 non-null object\n",
      "entity_type_desc                         373615 non-null object\n",
      "unused_contbr_id                         4 non-null object\n",
      "contributor_prefix                       126227 non-null object\n",
      "contributor_name                         373615 non-null object\n",
      "recipient_committee_type                 373615 non-null object\n",
      "recipient_committee_org_type             0 non-null float64\n",
      "recipient_committee_designation          373615 non-null object\n",
      "contributor_first_name                   373583 non-null object\n",
      "contributor_middle_name                  96239 non-null object\n",
      "contributor_last_name                    373564 non-null object\n",
      "contributor_suffix                       5446 non-null object\n",
      "contributor_street_1                     373615 non-null object\n",
      "contributor_street_2                     15891 non-null object\n",
      "contributor_city                         373615 non-null object\n",
      "contributor_state                        373615 non-null object\n",
      "contributor_zip                          373615 non-null int64\n",
      "contributor_employer                     373412 non-null object\n",
      "contributor_occupation                   373390 non-null object\n",
      "contributor_id                           4 non-null object\n",
      "receipt_type                             66806 non-null object\n",
      "receipt_type_desc                        66806 non-null object\n",
      "receipt_type_full                        235432 non-null object\n",
      "memo_code                                231838 non-null object\n",
      "memo_code_full                           0 non-null float64\n",
      "contribution_receipt_date                373615 non-null object\n",
      "contribution_receipt_amount              373615 non-null float64\n",
      "contributor_aggregate_ytd                373615 non-null float64\n",
      "candidate_id                             0 non-null float64\n",
      "candidate_name                           0 non-null float64\n",
      "candidate_first_name                     0 non-null float64\n",
      "candidate_last_name                      0 non-null float64\n",
      "candidate_middle_name                    0 non-null float64\n",
      "candidate_prefix                         0 non-null float64\n",
      "candidate_suffix                         0 non-null float64\n",
      "candidate_office                         0 non-null float64\n",
      "candidate_office_full                    0 non-null float64\n",
      "candidate_office_state                   0 non-null float64\n",
      "candidate_office_state_full              0 non-null float64\n",
      "candidate_office_district                0 non-null float64\n",
      "conduit_committee_id                     0 non-null float64\n",
      "conduit_committee_name                   0 non-null float64\n",
      "conduit_committee_street1                0 non-null float64\n",
      "conduit_committee_street2                0 non-null float64\n",
      "conduit_committee_city                   0 non-null float64\n",
      "conduit_committee_state                  0 non-null float64\n",
      "conduit_committee_zip                    0 non-null float64\n",
      "donor_committee_name                     5 non-null object\n",
      "national_committee_nonfederal_account    0 non-null float64\n",
      "election_type                            373615 non-null object\n",
      "election_type_full                       0 non-null float64\n",
      "fec_election_type_desc                   373615 non-null object\n",
      "fec_election_year                        373615 non-null int64\n",
      "amendment_indicator                      373615 non-null object\n",
      "amendment_indicator_desc                 373615 non-null object\n",
      "schedule_type_full                       373615 non-null object\n",
      "load_date                                373615 non-null object\n",
      "original_sub_id                          0 non-null float64\n",
      "back_reference_transaction_id            0 non-null float64\n",
      "back_reference_schedule_name             0 non-null float64\n",
      "filing_form                              373615 non-null object\n",
      "link_id                                  373615 non-null int64\n",
      "is_individual                            373615 non-null object\n",
      "memo_text                                0 non-null float64\n",
      "two_year_transaction_period              373615 non-null int64\n",
      "schedule_type                            373615 non-null object\n",
      "increased_limit                          0 non-null float64\n",
      "sub_id                                   373615 non-null int64\n",
      "pdf_url                                  373615 non-null object\n",
      "line_number_label                        373615 non-null object\n",
      "dtypes: float64(31), int64(8), object(40)\n",
      "memory usage: 225.2+ MB\n"
     ]
    }
   ],
   "source": [
    "df_donations.info()"
   ]
  },
  {
   "cell_type": "markdown",
   "metadata": {},
   "source": [
    "<a id='camp_clean'></a>\n",
    "> Change 'contribution_receipt_date to a datetime object and set as index. "
   ]
  },
  {
   "cell_type": "code",
   "execution_count": 26,
   "metadata": {},
   "outputs": [],
   "source": [
    "df_donations['Date']= pd.to_datetime(df_donations['contribution_receipt_date'])\n",
    "df_donations.set_index('Date', inplace=True)\n",
    "df_donations.sort_index(inplace=True,ascending=True)"
   ]
  },
  {
   "cell_type": "markdown",
   "metadata": {},
   "source": [
    ">There is a lot of good information, provided in the dataset from employer of donor to their location. However for the purposes of this project the only information I care about is the total daily donations. "
   ]
  },
  {
   "cell_type": "code",
   "execution_count": 27,
   "metadata": {},
   "outputs": [],
   "source": [
    "daily_donations= pd.DataFrame(df_donations['contribution_receipt_amount'].resample('D').sum())"
   ]
  },
  {
   "cell_type": "code",
   "execution_count": 28,
   "metadata": {
    "scrolled": true
   },
   "outputs": [
    {
     "data": {
      "text/html": [
       "<div>\n",
       "<style scoped>\n",
       "    .dataframe tbody tr th:only-of-type {\n",
       "        vertical-align: middle;\n",
       "    }\n",
       "\n",
       "    .dataframe tbody tr th {\n",
       "        vertical-align: top;\n",
       "    }\n",
       "\n",
       "    .dataframe thead th {\n",
       "        text-align: right;\n",
       "    }\n",
       "</style>\n",
       "<table border=\"1\" class=\"dataframe\">\n",
       "  <thead>\n",
       "    <tr style=\"text-align: right;\">\n",
       "      <th></th>\n",
       "      <th>contribution_receipt_amount</th>\n",
       "    </tr>\n",
       "    <tr>\n",
       "      <th>Date</th>\n",
       "      <th></th>\n",
       "    </tr>\n",
       "  </thead>\n",
       "  <tbody>\n",
       "    <tr>\n",
       "      <th>2019-01-01</th>\n",
       "      <td>80596.00</td>\n",
       "    </tr>\n",
       "    <tr>\n",
       "      <th>2019-01-02</th>\n",
       "      <td>38655.24</td>\n",
       "    </tr>\n",
       "    <tr>\n",
       "      <th>2019-01-03</th>\n",
       "      <td>42904.48</td>\n",
       "    </tr>\n",
       "    <tr>\n",
       "      <th>2019-01-04</th>\n",
       "      <td>38082.68</td>\n",
       "    </tr>\n",
       "    <tr>\n",
       "      <th>2019-01-05</th>\n",
       "      <td>24696.23</td>\n",
       "    </tr>\n",
       "  </tbody>\n",
       "</table>\n",
       "</div>"
      ],
      "text/plain": [
       "            contribution_receipt_amount\n",
       "Date                                   \n",
       "2019-01-01                     80596.00\n",
       "2019-01-02                     38655.24\n",
       "2019-01-03                     42904.48\n",
       "2019-01-04                     38082.68\n",
       "2019-01-05                     24696.23"
      ]
     },
     "execution_count": 28,
     "metadata": {},
     "output_type": "execute_result"
    }
   ],
   "source": [
    "#Confirm the dataset aggregated correctly.\n",
    "daily_donations.head()"
   ]
  },
  {
   "cell_type": "markdown",
   "metadata": {},
   "source": [
    "<a id='combine'></a>\n",
    "## Combine datasets into one called full_dataset."
   ]
  },
  {
   "cell_type": "code",
   "execution_count": 29,
   "metadata": {
    "scrolled": true
   },
   "outputs": [],
   "source": [
    "df= tweet_df.merge(daily_donations,left_index=True,right_index=True)"
   ]
  },
  {
   "cell_type": "code",
   "execution_count": 30,
   "metadata": {
    "scrolled": false
   },
   "outputs": [
    {
     "data": {
      "text/html": [
       "<div>\n",
       "<style scoped>\n",
       "    .dataframe tbody tr th:only-of-type {\n",
       "        vertical-align: middle;\n",
       "    }\n",
       "\n",
       "    .dataframe tbody tr th {\n",
       "        vertical-align: top;\n",
       "    }\n",
       "\n",
       "    .dataframe thead th {\n",
       "        text-align: right;\n",
       "    }\n",
       "</style>\n",
       "<table border=\"1\" class=\"dataframe\">\n",
       "  <thead>\n",
       "    <tr style=\"text-align: right;\">\n",
       "      <th></th>\n",
       "      <th>text</th>\n",
       "      <th>favorite_count</th>\n",
       "      <th>tweet_count</th>\n",
       "      <th>contribution_receipt_amount</th>\n",
       "    </tr>\n",
       "    <tr>\n",
       "      <th>Date</th>\n",
       "      <th></th>\n",
       "      <th></th>\n",
       "      <th></th>\n",
       "      <th></th>\n",
       "    </tr>\n",
       "  </thead>\n",
       "  <tbody>\n",
       "    <tr>\n",
       "      <th>2019-01-01</th>\n",
       "      <td>Dr. Sebastian Gorka a very good and talented g...</td>\n",
       "      <td>1827632</td>\n",
       "      <td>12</td>\n",
       "      <td>80596.00</td>\n",
       "    </tr>\n",
       "    <tr>\n",
       "      <th>2019-01-02</th>\n",
       "      <td>For FAR TOO LONG Senate Democrats have been Ob...</td>\n",
       "      <td>431747</td>\n",
       "      <td>3</td>\n",
       "      <td>38655.24</td>\n",
       "    </tr>\n",
       "    <tr>\n",
       "      <th>2019-01-03</th>\n",
       "      <td>Important meeting today on Border Security wit...</td>\n",
       "      <td>1091820</td>\n",
       "      <td>9</td>\n",
       "      <td>42904.48</td>\n",
       "    </tr>\n",
       "    <tr>\n",
       "      <th>2019-01-04</th>\n",
       "      <td>Michael Pillsbury interviewed by @cvpayne: The...</td>\n",
       "      <td>942401</td>\n",
       "      <td>7</td>\n",
       "      <td>38082.68</td>\n",
       "    </tr>\n",
       "    <tr>\n",
       "      <th>2019-01-05</th>\n",
       "      <td>Great new book by Dr. Robert Jeffress Choosing...</td>\n",
       "      <td>1247133</td>\n",
       "      <td>12</td>\n",
       "      <td>24696.23</td>\n",
       "    </tr>\n",
       "  </tbody>\n",
       "</table>\n",
       "</div>"
      ],
      "text/plain": [
       "                                                         text  favorite_count  \\\n",
       "Date                                                                            \n",
       "2019-01-01  Dr. Sebastian Gorka a very good and talented g...         1827632   \n",
       "2019-01-02  For FAR TOO LONG Senate Democrats have been Ob...          431747   \n",
       "2019-01-03  Important meeting today on Border Security wit...         1091820   \n",
       "2019-01-04  Michael Pillsbury interviewed by @cvpayne: The...          942401   \n",
       "2019-01-05  Great new book by Dr. Robert Jeffress Choosing...         1247133   \n",
       "\n",
       "            tweet_count  contribution_receipt_amount  \n",
       "Date                                                  \n",
       "2019-01-01           12                     80596.00  \n",
       "2019-01-02            3                     38655.24  \n",
       "2019-01-03            9                     42904.48  \n",
       "2019-01-04            7                     38082.68  \n",
       "2019-01-05           12                     24696.23  "
      ]
     },
     "execution_count": 30,
     "metadata": {},
     "output_type": "execute_result"
    }
   ],
   "source": [
    "df.head()"
   ]
  },
  {
   "cell_type": "markdown",
   "metadata": {},
   "source": [
    "<a id='remove'></a>\n",
    "## Remove punctuation and convert all words to lowercase"
   ]
  },
  {
   "cell_type": "code",
   "execution_count": 31,
   "metadata": {},
   "outputs": [],
   "source": [
    "df['text'] = df['text'].apply(remove_punctuation)"
   ]
  },
  {
   "cell_type": "code",
   "execution_count": 32,
   "metadata": {},
   "outputs": [],
   "source": [
    "df['text']= df['text'].apply(lambda x: x.lower())"
   ]
  },
  {
   "cell_type": "code",
   "execution_count": 33,
   "metadata": {},
   "outputs": [],
   "source": [
    "#One tweet text is saved as a float. Change to string.\n",
    "df['text']=df['text'].astype(str)"
   ]
  },
  {
   "cell_type": "markdown",
   "metadata": {},
   "source": [
    "<a id='export'></a>"
   ]
  },
  {
   "cell_type": "code",
   "execution_count": 34,
   "metadata": {},
   "outputs": [],
   "source": [
    "df.to_csv('../datasets/full_dataset.csv')"
   ]
  },
  {
   "cell_type": "markdown",
   "metadata": {},
   "source": [
    "<a id='conclusions'></a>\n",
    "## Conclusion  \n",
    "  \n",
    "The data is now clean and ready for the exploratory data analysis part of the process. Overall, the data was pretty clean. Much of the cleaning process was removing parts of text that were going to just provide noise to the analysis and modeling processes. The observations also had to be aggregated into per day observations because for ease of use.  \n",
    "Note that there was a lot of information provided in both original datasets that might have predictive signal, but were outside the scope of this project. It would be interesting to go back and look at what insights could be gained from the dropped information."
   ]
  }
 ],
 "metadata": {
  "kernelspec": {
   "display_name": "Python 3",
   "language": "python",
   "name": "python3"
  },
  "language_info": {
   "codemirror_mode": {
    "name": "ipython",
    "version": 3
   },
   "file_extension": ".py",
   "mimetype": "text/x-python",
   "name": "python",
   "nbconvert_exporter": "python",
   "pygments_lexer": "ipython3",
   "version": "3.7.3"
  }
 },
 "nbformat": 4,
 "nbformat_minor": 2
}
