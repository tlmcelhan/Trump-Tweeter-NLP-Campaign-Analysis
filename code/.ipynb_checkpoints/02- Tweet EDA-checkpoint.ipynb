{
 "cells": [
  {
   "cell_type": "markdown",
   "metadata": {},
   "source": [
    "# Initial Tweet Data EDA  \n",
    "  \n",
    "In the initial EDA I use NLP techniques to see if there is any correlation between Trump's tweets and his next day donations.  \n",
    "\n",
    "First, I import the data and look at the distributions and averages of the numerical data. I look at averages and see if there are any outliers in the number of favorites, number of tweets or the daily campaign contributions.   \n",
    "\n",
    "Feature engineering consists of creating a column that shows the following day's contributions based upon the current day's tweets. Other predictive features included daily tweet word/character counts, and looking at what days had the any correlation to the next day contributions.  \n",
    "\n",
    "The countvector analysis and tf-idf analysis look bag-of-words to see if there might be any signal to create a predictive model on. I will look at the correlations to the campaign contributions. Along with countvector and tf-idf analysis, I will be looking at Trump's tweets for sentiment patterns that might relate to contributions.  \n",
    "\n",
    "The final piece of EDA will be using SVD for feature extraction on both the bag-of-words techniques used prior. This will be concluded with the export of datasets to be used in the modeling process.  \n",
    "  \n",
    "The work flow will go as follows:  \n",
    "  \n",
    "> - [Data Importing and Initial EDA](#importing_data)\n",
    "> - [Feature Engineering](#feature_engineering)\n",
    "> - [Countvector Analysis](#countvector)\n",
    "> - [TF-IDF Analysis](#tfidf)\n",
    "> - [Sentiment Analysis](#sentiment)\n",
    "> - [SVD Analysis](#svd)\n",
    "> - [CSV Exports](#csv)\n",
    "> - [Conclusions](#conclusions)"
   ]
  },
  {
   "cell_type": "code",
   "execution_count": 1,
   "metadata": {},
   "outputs": [],
   "source": [
    "#Import libraries\n",
    "import pandas as pd\n",
    "import numpy as np\n",
    "import seaborn as sns\n",
    "import matplotlib.pyplot as plt\n",
    "from sklearn.feature_extraction.text import CountVectorizer, TfidfVectorizer\n",
    "from my_functions import corr_heatmap,plot_exp_var\n",
    "import string\n",
    "from datetime import datetime\n",
    "from nltk.sentiment.vader import SentimentIntensityAnalyzer\n",
    "from sklearn.decomposition import TruncatedSVD"
   ]
  },
  {
   "cell_type": "markdown",
   "metadata": {},
   "source": [
    "<a id='importing_data'></a>\n",
    "## Import data and look at the basics  \n",
    "  \n",
    "> Here I import the clean CSV file and look at basic distributions and if there are any outliers."
   ]
  },
  {
   "cell_type": "code",
   "execution_count": 2,
   "metadata": {
    "scrolled": true
   },
   "outputs": [],
   "source": [
    "df = pd.read_csv('../datasets/full_dataset.csv')"
   ]
  },
  {
   "cell_type": "code",
   "execution_count": 3,
   "metadata": {},
   "outputs": [
    {
     "data": {
      "text/plain": [
       "Date                            object\n",
       "text                            object\n",
       "favorite_count                   int64\n",
       "tweet_count                      int64\n",
       "contribution_receipt_amount    float64\n",
       "dtype: object"
      ]
     },
     "execution_count": 3,
     "metadata": {},
     "output_type": "execute_result"
    }
   ],
   "source": [
    "df.dtypes"
   ]
  },
  {
   "cell_type": "code",
   "execution_count": 4,
   "metadata": {},
   "outputs": [],
   "source": [
    "df['Date']= pd.to_datetime(df['Date'])"
   ]
  },
  {
   "cell_type": "code",
   "execution_count": 5,
   "metadata": {},
   "outputs": [],
   "source": [
    "df.set_index('Date', inplace=True)\n",
    "df.sort_index(inplace=True,ascending=True)"
   ]
  },
  {
   "cell_type": "code",
   "execution_count": 6,
   "metadata": {
    "scrolled": false
   },
   "outputs": [
    {
     "data": {
      "text/html": [
       "<div>\n",
       "<style scoped>\n",
       "    .dataframe tbody tr th:only-of-type {\n",
       "        vertical-align: middle;\n",
       "    }\n",
       "\n",
       "    .dataframe tbody tr th {\n",
       "        vertical-align: top;\n",
       "    }\n",
       "\n",
       "    .dataframe thead th {\n",
       "        text-align: right;\n",
       "    }\n",
       "</style>\n",
       "<table border=\"1\" class=\"dataframe\">\n",
       "  <thead>\n",
       "    <tr style=\"text-align: right;\">\n",
       "      <th></th>\n",
       "      <th>favorite_count</th>\n",
       "      <th>tweet_count</th>\n",
       "      <th>contribution_receipt_amount</th>\n",
       "    </tr>\n",
       "  </thead>\n",
       "  <tbody>\n",
       "    <tr>\n",
       "      <th>count</th>\n",
       "      <td>1.810000e+02</td>\n",
       "      <td>181.000000</td>\n",
       "      <td>1.810000e+02</td>\n",
       "    </tr>\n",
       "    <tr>\n",
       "      <th>mean</th>\n",
       "      <td>9.986329e+05</td>\n",
       "      <td>10.276243</td>\n",
       "      <td>1.488061e+05</td>\n",
       "    </tr>\n",
       "    <tr>\n",
       "      <th>std</th>\n",
       "      <td>4.370529e+05</td>\n",
       "      <td>5.587778</td>\n",
       "      <td>1.231941e+05</td>\n",
       "    </tr>\n",
       "    <tr>\n",
       "      <th>min</th>\n",
       "      <td>0.000000e+00</td>\n",
       "      <td>0.000000</td>\n",
       "      <td>1.147170e+03</td>\n",
       "    </tr>\n",
       "    <tr>\n",
       "      <th>25%</th>\n",
       "      <td>6.403840e+05</td>\n",
       "      <td>6.000000</td>\n",
       "      <td>7.486923e+04</td>\n",
       "    </tr>\n",
       "    <tr>\n",
       "      <th>50%</th>\n",
       "      <td>1.041653e+06</td>\n",
       "      <td>10.000000</td>\n",
       "      <td>1.262103e+05</td>\n",
       "    </tr>\n",
       "    <tr>\n",
       "      <th>75%</th>\n",
       "      <td>1.313334e+06</td>\n",
       "      <td>13.000000</td>\n",
       "      <td>1.825861e+05</td>\n",
       "    </tr>\n",
       "    <tr>\n",
       "      <th>max</th>\n",
       "      <td>2.242335e+06</td>\n",
       "      <td>32.000000</td>\n",
       "      <td>1.025959e+06</td>\n",
       "    </tr>\n",
       "  </tbody>\n",
       "</table>\n",
       "</div>"
      ],
      "text/plain": [
       "       favorite_count  tweet_count  contribution_receipt_amount\n",
       "count    1.810000e+02   181.000000                 1.810000e+02\n",
       "mean     9.986329e+05    10.276243                 1.488061e+05\n",
       "std      4.370529e+05     5.587778                 1.231941e+05\n",
       "min      0.000000e+00     0.000000                 1.147170e+03\n",
       "25%      6.403840e+05     6.000000                 7.486923e+04\n",
       "50%      1.041653e+06    10.000000                 1.262103e+05\n",
       "75%      1.313334e+06    13.000000                 1.825861e+05\n",
       "max      2.242335e+06    32.000000                 1.025959e+06"
      ]
     },
     "execution_count": 6,
     "metadata": {},
     "output_type": "execute_result"
    }
   ],
   "source": [
    "df.describe()"
   ]
  },
  {
   "cell_type": "markdown",
   "metadata": {},
   "source": [
    "> It appears from the start of 2019 through end of June Trump averaged $148k and averaged almost a million tweet favorites per day. "
   ]
  },
  {
   "cell_type": "code",
   "execution_count": 7,
   "metadata": {
    "scrolled": true
   },
   "outputs": [
    {
     "data": {
      "text/html": [
       "<div>\n",
       "<style scoped>\n",
       "    .dataframe tbody tr th:only-of-type {\n",
       "        vertical-align: middle;\n",
       "    }\n",
       "\n",
       "    .dataframe tbody tr th {\n",
       "        vertical-align: top;\n",
       "    }\n",
       "\n",
       "    .dataframe thead th {\n",
       "        text-align: right;\n",
       "    }\n",
       "</style>\n",
       "<table border=\"1\" class=\"dataframe\">\n",
       "  <thead>\n",
       "    <tr style=\"text-align: right;\">\n",
       "      <th></th>\n",
       "      <th>contribution_receipt_amount</th>\n",
       "    </tr>\n",
       "    <tr>\n",
       "      <th>Date</th>\n",
       "      <th></th>\n",
       "    </tr>\n",
       "  </thead>\n",
       "  <tbody>\n",
       "    <tr>\n",
       "      <th>2019-06-18</th>\n",
       "      <td>1025958.78</td>\n",
       "    </tr>\n",
       "    <tr>\n",
       "      <th>2019-06-19</th>\n",
       "      <td>911621.56</td>\n",
       "    </tr>\n",
       "    <tr>\n",
       "      <th>2019-04-29</th>\n",
       "      <td>424827.87</td>\n",
       "    </tr>\n",
       "    <tr>\n",
       "      <th>2019-06-20</th>\n",
       "      <td>418305.93</td>\n",
       "    </tr>\n",
       "    <tr>\n",
       "      <th>2019-06-24</th>\n",
       "      <td>412653.27</td>\n",
       "    </tr>\n",
       "  </tbody>\n",
       "</table>\n",
       "</div>"
      ],
      "text/plain": [
       "            contribution_receipt_amount\n",
       "Date                                   \n",
       "2019-06-18                   1025958.78\n",
       "2019-06-19                    911621.56\n",
       "2019-04-29                    424827.87\n",
       "2019-06-20                    418305.93\n",
       "2019-06-24                    412653.27"
      ]
     },
     "execution_count": 7,
     "metadata": {},
     "output_type": "execute_result"
    }
   ],
   "source": [
    "df[['contribution_receipt_amount']].sort_values(by= 'contribution_receipt_amount',ascending=False).head()"
   ]
  },
  {
   "cell_type": "markdown",
   "metadata": {},
   "source": [
    "> Trump averaged about \\\\$150k per day in individual donations. There seems to be two outliers in the dataset, both days raised around \\\\$1 million. After some research it appears that on June 18, 2019 Trump officially announced his re-election bid for 2020.[USA Today- Donald Trump to formally declare his re-election bid on June 18 in Orlando](https://www.usatoday.com/story/news/politics/2019/05/31/donald-trump-formally-declare-re-election-bid-june-18-florida/1303932001/)"
   ]
  },
  {
   "cell_type": "code",
   "execution_count": 8,
   "metadata": {
    "scrolled": true
   },
   "outputs": [
    {
     "data": {
      "text/html": [
       "<div>\n",
       "<style scoped>\n",
       "    .dataframe tbody tr th:only-of-type {\n",
       "        vertical-align: middle;\n",
       "    }\n",
       "\n",
       "    .dataframe tbody tr th {\n",
       "        vertical-align: top;\n",
       "    }\n",
       "\n",
       "    .dataframe thead th {\n",
       "        text-align: right;\n",
       "    }\n",
       "</style>\n",
       "<table border=\"1\" class=\"dataframe\">\n",
       "  <thead>\n",
       "    <tr style=\"text-align: right;\">\n",
       "      <th></th>\n",
       "      <th>text</th>\n",
       "      <th>favorite_count</th>\n",
       "      <th>tweet_count</th>\n",
       "      <th>contribution_receipt_amount</th>\n",
       "    </tr>\n",
       "    <tr>\n",
       "      <th>Date</th>\n",
       "      <th></th>\n",
       "      <th></th>\n",
       "      <th></th>\n",
       "      <th></th>\n",
       "    </tr>\n",
       "  </thead>\n",
       "  <tbody>\n",
       "    <tr>\n",
       "      <th>2019-06-18</th>\n",
       "      <td>long before they get to our southern border gu...</td>\n",
       "      <td>1235948</td>\n",
       "      <td>16</td>\n",
       "      <td>1025958.78</td>\n",
       "    </tr>\n",
       "    <tr>\n",
       "      <th>2019-06-19</th>\n",
       "      <td>thank you orlando florida together we are brea...</td>\n",
       "      <td>1313334</td>\n",
       "      <td>15</td>\n",
       "      <td>911621.56</td>\n",
       "    </tr>\n",
       "  </tbody>\n",
       "</table>\n",
       "</div>"
      ],
      "text/plain": [
       "                                                         text  favorite_count  \\\n",
       "Date                                                                            \n",
       "2019-06-18  long before they get to our southern border gu...         1235948   \n",
       "2019-06-19  thank you orlando florida together we are brea...         1313334   \n",
       "\n",
       "            tweet_count  contribution_receipt_amount  \n",
       "Date                                                  \n",
       "2019-06-18           16                   1025958.78  \n",
       "2019-06-19           15                    911621.56  "
      ]
     },
     "execution_count": 8,
     "metadata": {},
     "output_type": "execute_result"
    }
   ],
   "source": [
    "df.loc['2019-06-18':'2019-06-19']"
   ]
  },
  {
   "cell_type": "markdown",
   "metadata": {},
   "source": [
    "> Above are the two outliers in donations. I will later try to determine if these dates are giving noise to correlations, given word frequencies.[TF-IDF on Outliers](#outlier_tfidf)"
   ]
  },
  {
   "cell_type": "markdown",
   "metadata": {},
   "source": [
    "<a id='feature_engineering'></a>\n",
    "## Feature Engineering  \n",
    "  \n",
    "> There might be some correlation from daily word and character counts to next day contributions. The contributions column must be shifted in order to correlate with the days tweets."
   ]
  },
  {
   "cell_type": "code",
   "execution_count": 9,
   "metadata": {},
   "outputs": [],
   "source": [
    "#This makes sure that all rows of text are stored as sting objects in order to manipulate then into the \n",
    "#desired engineered features.\n",
    "df['text']= df['text'].astype(str)"
   ]
  },
  {
   "cell_type": "code",
   "execution_count": 10,
   "metadata": {},
   "outputs": [],
   "source": [
    "# Create a new column that counts characters in tweet\n",
    "df['char_count'] = df['text'].apply(len)\n",
    "\n",
    "#Create a word count feature for tweet.\n",
    "df['word_count'] = df['text'].apply(lambda x: len(x.split()))"
   ]
  },
  {
   "cell_type": "code",
   "execution_count": 11,
   "metadata": {},
   "outputs": [],
   "source": [
    "#Create a new column that looks at the days that Trump tweets.\n",
    "df['weekday'] = [day.weekday() for day in df.index]\n",
    "\n",
    "#Given the categorical data of days convert then to strings so that it is possible to then dummy.\n",
    "df['weekday']= df['weekday'].map({0:'mon',1:'tue',2:'wed',3:'thu',4:'fri',5:'sat',6:'sun'})\n",
    "\n",
    "#Dummy the days \n",
    "df = pd.concat([df,pd.get_dummies(df[['weekday']])],axis=1)"
   ]
  },
  {
   "cell_type": "code",
   "execution_count": 12,
   "metadata": {},
   "outputs": [],
   "source": [
    "#Create a new column to combine today's tweets with the following day's campaign tweets.\n",
    "df['next_day_contributions'] = df['contribution_receipt_amount'].shift()\n",
    "\n",
    "#Turn the next day contribution into its own dataframe to use later.\n",
    "contrib_df = df[['next_day_contributions']]"
   ]
  },
  {
   "cell_type": "code",
   "execution_count": 13,
   "metadata": {},
   "outputs": [
    {
     "data": {
      "text/plain": [
       "<matplotlib.axes._subplots.AxesSubplot at 0x1a228816a0>"
      ]
     },
     "execution_count": 13,
     "metadata": {},
     "output_type": "execute_result"
    },
    {
     "data": {
      "image/png": "[encoded data removed]",
      "text/plain": [
       "<Figure size 432x288 with 2 Axes>"
      ]
     },
     "metadata": {
      "needs_background": "light"
     },
     "output_type": "display_data"
    }
   ],
   "source": [
    "corr_heatmap(df,'next_day_contributions',False)\n"
   ]
  },
  {
   "cell_type": "markdown",
   "metadata": {},
   "source": [
    "> There is very low correlation from character and word counts to campaign contributions. However, there does seem to be some signal coming from what day of the week Trump was tweeting. Specifically, Wednesday, Sundays, and Mondays have some correlation with contributions. Sundays and Mondays might have to do more with Trump not working during the weekend."
   ]
  },
  {
   "cell_type": "markdown",
   "metadata": {},
   "source": [
    "<a id='countvector'></a>\n",
    "## Countvectorizer Analysis of Tweets \n",
    "  \n",
    "> Using Countvectorizer, I look at what word counts and look to see if there is any correlation to campaign contributions. "
   ]
  },
  {
   "cell_type": "code",
   "execution_count": 14,
   "metadata": {},
   "outputs": [],
   "source": [
    "# Initialize the CountVectorizer\n",
    "cvec = CountVectorizer(stop_words = 'english', max_df = .9, min_df = 3)\n",
    "# Fit and transform the titles using the CountVectorizer\n",
    "term_matrix = cvec.fit_transform(df['text'])"
   ]
  },
  {
   "cell_type": "code",
   "execution_count": 15,
   "metadata": {
    "scrolled": true
   },
   "outputs": [
    {
     "data": {
      "text/plain": [
       "1802"
      ]
     },
     "execution_count": 15,
     "metadata": {},
     "output_type": "execute_result"
    }
   ],
   "source": [
    "len(cvec.get_feature_names())"
   ]
  },
  {
   "cell_type": "markdown",
   "metadata": {},
   "source": [
    "> There are now 1802 words that countvectorizer has separated from the corpus. Below This information is turned into a dataframe and then analyzed."
   ]
  },
  {
   "cell_type": "code",
   "execution_count": 16,
   "metadata": {},
   "outputs": [],
   "source": [
    "# Convert the output of the CountVectorizer into a DataFrame\n",
    "term_df = pd.DataFrame(term_matrix.toarray(),\n",
    "                       columns = cvec.get_feature_names())\n",
    "\n",
    "# Let's use dictionary comprehension to create a dictionary of summed words\n",
    "term_dict = {word : term_df[word].sum() for word in term_df.columns}\n",
    "\n",
    "# Create a dataframe with index = 'counts'\n",
    "tcdf = pd.DataFrame(term_dict, index = ['counts'])\n",
    "\n",
    "# Transpose the dataframe\n",
    "tcdf = tcdf.T\n"
   ]
  },
  {
   "cell_type": "markdown",
   "metadata": {},
   "source": [
    ">The dataframes cannot have timeseries indicies in order to do a correlation analysis."
   ]
  },
  {
   "cell_type": "code",
   "execution_count": 17,
   "metadata": {},
   "outputs": [
    {
     "data": {
      "text/plain": [
       "<matplotlib.axes._subplots.AxesSubplot at 0x1a23ad38d0>"
      ]
     },
     "execution_count": 17,
     "metadata": {},
     "output_type": "execute_result"
    },
    {
     "data": {
      "image/png": "[encoded data removed]",
      "text/plain": [
       "<Figure size 432x288 with 2 Axes>"
      ]
     },
     "metadata": {
      "needs_background": "light"
     },
     "output_type": "display_data"
    }
   ],
   "source": [
    "#Reset index and drop the date column.\n",
    "contrib_df = contrib_df.reset_index().drop('Date', axis=1)\n",
    "#Join the contribution dataframe to the countvector dataframe.\n",
    "term_df= term_df.join(contrib_df)\n",
    "#Drop first row.\n",
    "term_df= term_df.drop([0])\n",
    "\n",
    "corr_heatmap(term_df,'next_day_contributions',False)"
   ]
  },
  {
   "cell_type": "markdown",
   "metadata": {},
   "source": [
    "> It looks like there is a decent amount of correlation from words such as rigged, emails, unhappy, scared, etc. Lots of the top words are in my opinion negative. It might suggest that these words along with a sentiment analysis could help predict next day contributions. "
   ]
  },
  {
   "cell_type": "code",
   "execution_count": 18,
   "metadata": {
    "scrolled": true
   },
   "outputs": [
    {
     "data": {
      "text/plain": [
       "<matplotlib.axes._subplots.AxesSubplot at 0x1a23ad3e10>"
      ]
     },
     "execution_count": 18,
     "metadata": {},
     "output_type": "execute_result"
    },
    {
     "data": {
      "image/png": "[encoded data removed]",
      "text/plain": [
       "<Figure size 432x288 with 2 Axes>"
      ]
     },
     "metadata": {
      "needs_background": "light"
     },
     "output_type": "display_data"
    }
   ],
   "source": [
    "corr_heatmap(term_df,'next_day_contributions',True)"
   ]
  },
  {
   "cell_type": "markdown",
   "metadata": {},
   "source": [
    "> It appears there are words that do lower Trump's contributions as well. The one that seems the most interesting is that the more he mentions the wall the lower his contributions are. It doesn't seem wise to keep using that term, \"barrier\" also seems to also have a negative correlation, which is a synonym for wall."
   ]
  },
  {
   "cell_type": "markdown",
   "metadata": {},
   "source": [
    "<a id='tfidf'></a>\n",
    "## TF-IDF Analysis on Tweets . \n",
    "  \n",
    "> Similar to the countvectorizer analysis, looking at the relationship of words/phrases frequencies from documents to the corpus might have a correlation to contributions. Below, I look at the single and two word ngrams of Trump's tweets."
   ]
  },
  {
   "cell_type": "code",
   "execution_count": 19,
   "metadata": {},
   "outputs": [],
   "source": [
    "#Fit and transform titles of AITA posts\n",
    "tfidf = TfidfVectorizer(stop_words='english',ngram_range=(1,2))\n",
    "tfidf.fit(df['text'])\n",
    "term_mat = tfidf.transform(df['text'])\n",
    "\n",
    "#Put into dataframe\n",
    "term_tfidf = pd.DataFrame(term_mat.toarray(), columns=tfidf.get_feature_names())"
   ]
  },
  {
   "cell_type": "code",
   "execution_count": 20,
   "metadata": {},
   "outputs": [
    {
     "data": {
      "text/html": [
       "<div>\n",
       "<style scoped>\n",
       "    .dataframe tbody tr th:only-of-type {\n",
       "        vertical-align: middle;\n",
       "    }\n",
       "\n",
       "    .dataframe tbody tr th {\n",
       "        vertical-align: top;\n",
       "    }\n",
       "\n",
       "    .dataframe thead th {\n",
       "        text-align: right;\n",
       "    }\n",
       "</style>\n",
       "<table border=\"1\" class=\"dataframe\">\n",
       "  <thead>\n",
       "    <tr style=\"text-align: right;\">\n",
       "      <th></th>\n",
       "      <th>max</th>\n",
       "      <th>mean</th>\n",
       "      <th>sum</th>\n",
       "    </tr>\n",
       "  </thead>\n",
       "  <tbody>\n",
       "    <tr>\n",
       "      <th>nan</th>\n",
       "      <td>1.000000</td>\n",
       "      <td>0.005525</td>\n",
       "      <td>1.000000</td>\n",
       "    </tr>\n",
       "    <tr>\n",
       "      <th>dday75thanniversary</th>\n",
       "      <td>0.374746</td>\n",
       "      <td>0.002327</td>\n",
       "      <td>0.421171</td>\n",
       "    </tr>\n",
       "    <tr>\n",
       "      <th>mexico</th>\n",
       "      <td>0.340680</td>\n",
       "      <td>0.014553</td>\n",
       "      <td>2.634177</td>\n",
       "    </tr>\n",
       "    <tr>\n",
       "      <th>interior</th>\n",
       "      <td>0.335228</td>\n",
       "      <td>0.001852</td>\n",
       "      <td>0.335228</td>\n",
       "    </tr>\n",
       "    <tr>\n",
       "      <th>secretary interior</th>\n",
       "      <td>0.335228</td>\n",
       "      <td>0.001852</td>\n",
       "      <td>0.335228</td>\n",
       "    </tr>\n",
       "    <tr>\n",
       "      <th>china</th>\n",
       "      <td>0.317833</td>\n",
       "      <td>0.013504</td>\n",
       "      <td>2.444293</td>\n",
       "    </tr>\n",
       "    <tr>\n",
       "      <th>walls</th>\n",
       "      <td>0.286680</td>\n",
       "      <td>0.003417</td>\n",
       "      <td>0.618407</td>\n",
       "    </tr>\n",
       "    <tr>\n",
       "      <th>1994</th>\n",
       "      <td>0.283713</td>\n",
       "      <td>0.001567</td>\n",
       "      <td>0.283713</td>\n",
       "    </tr>\n",
       "    <tr>\n",
       "      <th>america great</th>\n",
       "      <td>0.278124</td>\n",
       "      <td>0.007354</td>\n",
       "      <td>1.331126</td>\n",
       "    </tr>\n",
       "    <tr>\n",
       "      <th>good morning</th>\n",
       "      <td>0.276659</td>\n",
       "      <td>0.001529</td>\n",
       "      <td>0.276659</td>\n",
       "    </tr>\n",
       "    <tr>\n",
       "      <th>exoneration america</th>\n",
       "      <td>0.276659</td>\n",
       "      <td>0.001529</td>\n",
       "      <td>0.276659</td>\n",
       "    </tr>\n",
       "    <tr>\n",
       "      <th>day make</th>\n",
       "      <td>0.276659</td>\n",
       "      <td>0.001529</td>\n",
       "      <td>0.276659</td>\n",
       "    </tr>\n",
       "    <tr>\n",
       "      <th>obstruction complete</th>\n",
       "      <td>0.276659</td>\n",
       "      <td>0.001529</td>\n",
       "      <td>0.276659</td>\n",
       "    </tr>\n",
       "    <tr>\n",
       "      <th>morning great</th>\n",
       "      <td>0.276659</td>\n",
       "      <td>0.001529</td>\n",
       "      <td>0.276659</td>\n",
       "    </tr>\n",
       "    <tr>\n",
       "      <th>golf club</th>\n",
       "      <td>0.271337</td>\n",
       "      <td>0.001499</td>\n",
       "      <td>0.271337</td>\n",
       "    </tr>\n",
       "  </tbody>\n",
       "</table>\n",
       "</div>"
      ],
      "text/plain": [
       "                           max      mean       sum\n",
       "nan                   1.000000  0.005525  1.000000\n",
       "dday75thanniversary   0.374746  0.002327  0.421171\n",
       "mexico                0.340680  0.014553  2.634177\n",
       "interior              0.335228  0.001852  0.335228\n",
       "secretary interior    0.335228  0.001852  0.335228\n",
       "china                 0.317833  0.013504  2.444293\n",
       "walls                 0.286680  0.003417  0.618407\n",
       "1994                  0.283713  0.001567  0.283713\n",
       "america great         0.278124  0.007354  1.331126\n",
       "good morning          0.276659  0.001529  0.276659\n",
       "exoneration america   0.276659  0.001529  0.276659\n",
       "day make              0.276659  0.001529  0.276659\n",
       "obstruction complete  0.276659  0.001529  0.276659\n",
       "morning great         0.276659  0.001529  0.276659\n",
       "golf club             0.271337  0.001499  0.271337"
      ]
     },
     "execution_count": 20,
     "metadata": {},
     "output_type": "execute_result"
    }
   ],
   "source": [
    "#Organize the term_tfidf dataframe into the max, mean and sum of each of the words/phrases. Then look at the top 15.\n",
    "col_max = {col: [term_tfidf[col].max(), \n",
    "                 term_tfidf[col].mean(),\n",
    "                 term_tfidf[col].sum()] for col in term_tfidf.columns}\n",
    "\n",
    "tf_df = pd.DataFrame(col_max, index = ['max','mean','sum']).T\n",
    "\n",
    "\n",
    "tf_df.sort_values(by = 'max', ascending = False).head(15)"
   ]
  },
  {
   "cell_type": "code",
   "execution_count": 21,
   "metadata": {},
   "outputs": [
    {
     "data": {
      "text/plain": [
       "<matplotlib.axes._subplots.AxesSubplot at 0x1a254b29e8>"
      ]
     },
     "execution_count": 21,
     "metadata": {},
     "output_type": "execute_result"
    },
    {
     "data": {
      "image/png": "[encoded data removed]",
      "text/plain": [
       "<Figure size 432x288 with 2 Axes>"
      ]
     },
     "metadata": {
      "needs_background": "light"
     },
     "output_type": "display_data"
    }
   ],
   "source": [
    "#Add contributions into the term_tfidf dataframe in order to run a correlation heatmap on the features.\n",
    "term_tfidf= term_tfidf.join(contrib_df)\n",
    "term_tfidf= term_tfidf.drop([0])\n",
    "corr_heatmap(term_tfidf,'next_day_contributions',False)"
   ]
  },
  {
   "cell_type": "markdown",
   "metadata": {},
   "source": [
    "> Given the phrases a ove, there seems to be a lot of signal going into the correlations to Trump's campaign contributions. These look like a good start to run through a model in order to predict contributions. One of the top phrases was trump2020 thus I am assuming there is a very strong correlation from him announcing his candidacy and his contributions."
   ]
  },
  {
   "cell_type": "markdown",
   "metadata": {},
   "source": [
    "<a id='outlier_tfidf'></a>\n",
    "## TF-IDF on Outliers  \n",
    "  \n",
    "> This section is specifically looking at the top phrases in the contribution outliers and seeing if they are the same as the corpus correlations."
   ]
  },
  {
   "cell_type": "code",
   "execution_count": 22,
   "metadata": {},
   "outputs": [],
   "source": [
    "outlier_df= df.loc['2019-06-18':'2019-06-19'][['text','next_day_contributions']]"
   ]
  },
  {
   "cell_type": "code",
   "execution_count": 23,
   "metadata": {},
   "outputs": [],
   "source": [
    "#Fit and transform outlier tweets.\n",
    "tfidf_outliers = TfidfVectorizer(stop_words='english',ngram_range=(1,2))\n",
    "tfidf_outliers.fit(outlier_df['text'])\n",
    "term_mat_outliers = tfidf_outliers.transform(outlier_df['text'])\n",
    "\n",
    "#Put into dataframe\n",
    "term_tfidf_outliers = pd.DataFrame(term_mat_outliers.toarray(), columns=tfidf_outliers.get_feature_names())"
   ]
  },
  {
   "cell_type": "code",
   "execution_count": 24,
   "metadata": {
    "scrolled": false
   },
   "outputs": [
    {
     "data": {
      "text/html": [
       "<div>\n",
       "<style scoped>\n",
       "    .dataframe tbody tr th:only-of-type {\n",
       "        vertical-align: middle;\n",
       "    }\n",
       "\n",
       "    .dataframe tbody tr th {\n",
       "        vertical-align: top;\n",
       "    }\n",
       "\n",
       "    .dataframe thead th {\n",
       "        text-align: right;\n",
       "    }\n",
       "</style>\n",
       "<table border=\"1\" class=\"dataframe\">\n",
       "  <thead>\n",
       "    <tr style=\"text-align: right;\">\n",
       "      <th></th>\n",
       "      <th>max</th>\n",
       "      <th>mean</th>\n",
       "      <th>sum</th>\n",
       "    </tr>\n",
       "  </thead>\n",
       "  <tbody>\n",
       "    <tr>\n",
       "      <th>amp</th>\n",
       "      <td>0.171123</td>\n",
       "      <td>0.085561</td>\n",
       "      <td>0.171123</td>\n",
       "    </tr>\n",
       "    <tr>\n",
       "      <th>trump2020</th>\n",
       "      <td>0.152194</td>\n",
       "      <td>0.090721</td>\n",
       "      <td>0.181443</td>\n",
       "    </tr>\n",
       "    <tr>\n",
       "      <th>country</th>\n",
       "      <td>0.128342</td>\n",
       "      <td>0.064171</td>\n",
       "      <td>0.128342</td>\n",
       "    </tr>\n",
       "    <tr>\n",
       "      <th>democrat</th>\n",
       "      <td>0.128342</td>\n",
       "      <td>0.064171</td>\n",
       "      <td>0.128342</td>\n",
       "    </tr>\n",
       "    <tr>\n",
       "      <th>want</th>\n",
       "      <td>0.128342</td>\n",
       "      <td>0.064171</td>\n",
       "      <td>0.128342</td>\n",
       "    </tr>\n",
       "    <tr>\n",
       "      <th>mueller</th>\n",
       "      <td>0.128342</td>\n",
       "      <td>0.064171</td>\n",
       "      <td>0.128342</td>\n",
       "    </tr>\n",
       "    <tr>\n",
       "      <th>best</th>\n",
       "      <td>0.128342</td>\n",
       "      <td>0.064171</td>\n",
       "      <td>0.128342</td>\n",
       "    </tr>\n",
       "    <tr>\n",
       "      <th>rigged</th>\n",
       "      <td>0.128342</td>\n",
       "      <td>0.064171</td>\n",
       "      <td>0.128342</td>\n",
       "    </tr>\n",
       "    <tr>\n",
       "      <th>mario</th>\n",
       "      <td>0.123325</td>\n",
       "      <td>0.061663</td>\n",
       "      <td>0.123325</td>\n",
       "    </tr>\n",
       "    <tr>\n",
       "      <th>job</th>\n",
       "      <td>0.123325</td>\n",
       "      <td>0.061663</td>\n",
       "      <td>0.123325</td>\n",
       "    </tr>\n",
       "    <tr>\n",
       "      <th>stimulus</th>\n",
       "      <td>0.123325</td>\n",
       "      <td>0.061663</td>\n",
       "      <td>0.123325</td>\n",
       "    </tr>\n",
       "    <tr>\n",
       "      <th>new</th>\n",
       "      <td>0.123325</td>\n",
       "      <td>0.061663</td>\n",
       "      <td>0.123325</td>\n",
       "    </tr>\n",
       "    <tr>\n",
       "      <th>secretary</th>\n",
       "      <td>0.123325</td>\n",
       "      <td>0.061663</td>\n",
       "      <td>0.123325</td>\n",
       "    </tr>\n",
       "    <tr>\n",
       "      <th>dems</th>\n",
       "      <td>0.121755</td>\n",
       "      <td>0.075502</td>\n",
       "      <td>0.151004</td>\n",
       "    </tr>\n",
       "    <tr>\n",
       "      <th>orlando</th>\n",
       "      <td>0.116996</td>\n",
       "      <td>0.088937</td>\n",
       "      <td>0.177874</td>\n",
       "    </tr>\n",
       "  </tbody>\n",
       "</table>\n",
       "</div>"
      ],
      "text/plain": [
       "                max      mean       sum\n",
       "amp        0.171123  0.085561  0.171123\n",
       "trump2020  0.152194  0.090721  0.181443\n",
       "country    0.128342  0.064171  0.128342\n",
       "democrat   0.128342  0.064171  0.128342\n",
       "want       0.128342  0.064171  0.128342\n",
       "mueller    0.128342  0.064171  0.128342\n",
       "best       0.128342  0.064171  0.128342\n",
       "rigged     0.128342  0.064171  0.128342\n",
       "mario      0.123325  0.061663  0.123325\n",
       "job        0.123325  0.061663  0.123325\n",
       "stimulus   0.123325  0.061663  0.123325\n",
       "new        0.123325  0.061663  0.123325\n",
       "secretary  0.123325  0.061663  0.123325\n",
       "dems       0.121755  0.075502  0.151004\n",
       "orlando    0.116996  0.088937  0.177874"
      ]
     },
     "execution_count": 24,
     "metadata": {},
     "output_type": "execute_result"
    }
   ],
   "source": [
    "col_max_outliers = {col: [term_tfidf_outliers[col].max(), \n",
    "                 term_tfidf_outliers[col].mean(),\n",
    "                 term_tfidf_outliers[col].sum()] for col in term_tfidf_outliers.columns}\n",
    "\n",
    "tf_df_out = pd.DataFrame(col_max_outliers, index = ['max','mean','sum']).T\n",
    "\n",
    "\n",
    "tf_df_out.sort_values(by = 'max', ascending = False).head(15)"
   ]
  },
  {
   "cell_type": "markdown",
   "metadata": {},
   "source": [
    "> Looking at the days where he recieved the most donations, Trump mostly tweeted about his campaign and the Mueller report. This is a little different than the corpus term frequencies, but not much. Thus it is hard to conclude whether or not these two days are skewing the data."
   ]
  },
  {
   "cell_type": "markdown",
   "metadata": {},
   "source": [
    "<a id='sentiment'></a>\n",
    "## Sentiment Analysis  \n",
    "  \n",
    "> From looking at the words above that have the most correlation with next day campaign contributions a sentiment analysis might provide additional signal for a model to be fit. Below is that analysis:"
   ]
  },
  {
   "cell_type": "code",
   "execution_count": 25,
   "metadata": {},
   "outputs": [
    {
     "data": {
      "text/html": [
       "<div>\n",
       "<style scoped>\n",
       "    .dataframe tbody tr th:only-of-type {\n",
       "        vertical-align: middle;\n",
       "    }\n",
       "\n",
       "    .dataframe tbody tr th {\n",
       "        vertical-align: top;\n",
       "    }\n",
       "\n",
       "    .dataframe thead th {\n",
       "        text-align: right;\n",
       "    }\n",
       "</style>\n",
       "<table border=\"1\" class=\"dataframe\">\n",
       "  <thead>\n",
       "    <tr style=\"text-align: right;\">\n",
       "      <th></th>\n",
       "      <th>compound</th>\n",
       "      <th>neg</th>\n",
       "      <th>neu</th>\n",
       "      <th>pos</th>\n",
       "      <th>text</th>\n",
       "    </tr>\n",
       "  </thead>\n",
       "  <tbody>\n",
       "    <tr>\n",
       "      <th>82</th>\n",
       "      <td>0.9153</td>\n",
       "      <td>0.131</td>\n",
       "      <td>0.417</td>\n",
       "      <td>0.452</td>\n",
       "      <td>good morning have a great day make america gre...</td>\n",
       "    </tr>\n",
       "    <tr>\n",
       "      <th>58</th>\n",
       "      <td>0.8591</td>\n",
       "      <td>0.000</td>\n",
       "      <td>0.655</td>\n",
       "      <td>0.345</td>\n",
       "      <td>thank you to our generous hosts in hanoi this ...</td>\n",
       "    </tr>\n",
       "    <tr>\n",
       "      <th>137</th>\n",
       "      <td>0.9886</td>\n",
       "      <td>0.042</td>\n",
       "      <td>0.614</td>\n",
       "      <td>0.344</td>\n",
       "      <td>our courageous and vigilant armed forces safeg...</td>\n",
       "    </tr>\n",
       "    <tr>\n",
       "      <th>145</th>\n",
       "      <td>0.9991</td>\n",
       "      <td>0.063</td>\n",
       "      <td>0.609</td>\n",
       "      <td>0.329</td>\n",
       "      <td>going to play golf right now with abeshinzo ja...</td>\n",
       "    </tr>\n",
       "    <tr>\n",
       "      <th>43</th>\n",
       "      <td>0.9947</td>\n",
       "      <td>0.027</td>\n",
       "      <td>0.647</td>\n",
       "      <td>0.326</td>\n",
       "      <td>i want to thank all republicans for the work y...</td>\n",
       "    </tr>\n",
       "    <tr>\n",
       "      <th>126</th>\n",
       "      <td>0.8593</td>\n",
       "      <td>0.074</td>\n",
       "      <td>0.623</td>\n",
       "      <td>0.302</td>\n",
       "      <td>democrats in congress must vote to close the t...</td>\n",
       "    </tr>\n",
       "    <tr>\n",
       "      <th>7</th>\n",
       "      <td>0.9958</td>\n",
       "      <td>0.066</td>\n",
       "      <td>0.635</td>\n",
       "      <td>0.299</td>\n",
       "      <td>endless wars especially those which are fought...</td>\n",
       "    </tr>\n",
       "    <tr>\n",
       "      <th>121</th>\n",
       "      <td>0.9965</td>\n",
       "      <td>0.028</td>\n",
       "      <td>0.684</td>\n",
       "      <td>0.288</td>\n",
       "      <td>i am continuing to monitor the situation in v...</td>\n",
       "    </tr>\n",
       "    <tr>\n",
       "      <th>3</th>\n",
       "      <td>0.9962</td>\n",
       "      <td>0.049</td>\n",
       "      <td>0.681</td>\n",
       "      <td>0.270</td>\n",
       "      <td>michael pillsbury interviewed by cvpayne they ...</td>\n",
       "    </tr>\n",
       "    <tr>\n",
       "      <th>128</th>\n",
       "      <td>0.9853</td>\n",
       "      <td>0.097</td>\n",
       "      <td>0.639</td>\n",
       "      <td>0.264</td>\n",
       "      <td>beautiful evening in panama city beach florida...</td>\n",
       "    </tr>\n",
       "  </tbody>\n",
       "</table>\n",
       "</div>"
      ],
      "text/plain": [
       "     compound    neg    neu    pos  \\\n",
       "82     0.9153  0.131  0.417  0.452   \n",
       "58     0.8591  0.000  0.655  0.345   \n",
       "137    0.9886  0.042  0.614  0.344   \n",
       "145    0.9991  0.063  0.609  0.329   \n",
       "43     0.9947  0.027  0.647  0.326   \n",
       "126    0.8593  0.074  0.623  0.302   \n",
       "7      0.9958  0.066  0.635  0.299   \n",
       "121    0.9965  0.028  0.684  0.288   \n",
       "3      0.9962  0.049  0.681  0.270   \n",
       "128    0.9853  0.097  0.639  0.264   \n",
       "\n",
       "                                                  text  \n",
       "82   good morning have a great day make america gre...  \n",
       "58   thank you to our generous hosts in hanoi this ...  \n",
       "137  our courageous and vigilant armed forces safeg...  \n",
       "145  going to play golf right now with abeshinzo ja...  \n",
       "43   i want to thank all republicans for the work y...  \n",
       "126  democrats in congress must vote to close the t...  \n",
       "7    endless wars especially those which are fought...  \n",
       "121   i am continuing to monitor the situation in v...  \n",
       "3    michael pillsbury interviewed by cvpayne they ...  \n",
       "128  beautiful evening in panama city beach florida...  "
      ]
     },
     "execution_count": 25,
     "metadata": {},
     "output_type": "execute_result"
    }
   ],
   "source": [
    "#Instantiate SentimentIntesityAnalyzer\n",
    "sia = SentimentIntensityAnalyzer()\n",
    "dicts = []\n",
    "for doc in df['text']:\n",
    "    doc_dict = sia.polarity_scores(doc)\n",
    "    sent = {\n",
    "        'text': doc, \n",
    "        'neg':doc_dict['neg'],\n",
    "        'neu':doc_dict['neu'],\n",
    "        'pos':doc_dict['pos'],\n",
    "        'compound':doc_dict['compound']\n",
    "    }\n",
    "    dicts.append(sent)\n",
    "    \n",
    "# Look at the top pos and neg tweets.\n",
    "text_sent_df= pd.DataFrame(dicts)\n",
    "text_sent_df.sort_values(by='pos',ascending=False).head(10)"
   ]
  },
  {
   "cell_type": "code",
   "execution_count": 26,
   "metadata": {},
   "outputs": [
    {
     "data": {
      "text/html": [
       "<div>\n",
       "<style scoped>\n",
       "    .dataframe tbody tr th:only-of-type {\n",
       "        vertical-align: middle;\n",
       "    }\n",
       "\n",
       "    .dataframe tbody tr th {\n",
       "        vertical-align: top;\n",
       "    }\n",
       "\n",
       "    .dataframe thead th {\n",
       "        text-align: right;\n",
       "    }\n",
       "</style>\n",
       "<table border=\"1\" class=\"dataframe\">\n",
       "  <thead>\n",
       "    <tr style=\"text-align: right;\">\n",
       "      <th></th>\n",
       "      <th>compound</th>\n",
       "      <th>neg</th>\n",
       "      <th>neu</th>\n",
       "      <th>pos</th>\n",
       "      <th>text</th>\n",
       "    </tr>\n",
       "  </thead>\n",
       "  <tbody>\n",
       "    <tr>\n",
       "      <th>16</th>\n",
       "      <td>-0.6152</td>\n",
       "      <td>0.240</td>\n",
       "      <td>0.621</td>\n",
       "      <td>0.139</td>\n",
       "      <td>the left has become totally unhinged they no l...</td>\n",
       "    </tr>\n",
       "    <tr>\n",
       "      <th>44</th>\n",
       "      <td>-0.9883</td>\n",
       "      <td>0.238</td>\n",
       "      <td>0.680</td>\n",
       "      <td>0.082</td>\n",
       "      <td>california has been forced to cancel the mas...</td>\n",
       "    </tr>\n",
       "    <tr>\n",
       "      <th>93</th>\n",
       "      <td>-0.9800</td>\n",
       "      <td>0.227</td>\n",
       "      <td>0.619</td>\n",
       "      <td>0.154</td>\n",
       "      <td>the republican party is the party of the ameri...</td>\n",
       "    </tr>\n",
       "    <tr>\n",
       "      <th>105</th>\n",
       "      <td>-0.8452</td>\n",
       "      <td>0.211</td>\n",
       "      <td>0.664</td>\n",
       "      <td>0.125</td>\n",
       "      <td>a must read andy mccarthys column today dirty ...</td>\n",
       "    </tr>\n",
       "    <tr>\n",
       "      <th>22</th>\n",
       "      <td>-0.9846</td>\n",
       "      <td>0.208</td>\n",
       "      <td>0.679</td>\n",
       "      <td>0.113</td>\n",
       "      <td>congratulations to mariano rivera on unanimous...</td>\n",
       "    </tr>\n",
       "    <tr>\n",
       "      <th>86</th>\n",
       "      <td>-0.9886</td>\n",
       "      <td>0.198</td>\n",
       "      <td>0.682</td>\n",
       "      <td>0.121</td>\n",
       "      <td>will be heading to grand rapids michigan toni...</td>\n",
       "    </tr>\n",
       "    <tr>\n",
       "      <th>65</th>\n",
       "      <td>-0.9636</td>\n",
       "      <td>0.194</td>\n",
       "      <td>0.721</td>\n",
       "      <td>0.085</td>\n",
       "      <td>wall street journal more migrant families cros...</td>\n",
       "    </tr>\n",
       "    <tr>\n",
       "      <th>101</th>\n",
       "      <td>-0.9807</td>\n",
       "      <td>0.193</td>\n",
       "      <td>0.712</td>\n",
       "      <td>0.095</td>\n",
       "      <td>great heroes  jobless claims at 50 year low i ...</td>\n",
       "    </tr>\n",
       "    <tr>\n",
       "      <th>117</th>\n",
       "      <td>-0.9489</td>\n",
       "      <td>0.189</td>\n",
       "      <td>0.677</td>\n",
       "      <td>0.134</td>\n",
       "      <td>beautiful trumprally tonight in green bay wisc...</td>\n",
       "    </tr>\n",
       "    <tr>\n",
       "      <th>149</th>\n",
       "      <td>-0.9967</td>\n",
       "      <td>0.186</td>\n",
       "      <td>0.708</td>\n",
       "      <td>0.106</td>\n",
       "      <td>how do you impeach a republican president for ...</td>\n",
       "    </tr>\n",
       "  </tbody>\n",
       "</table>\n",
       "</div>"
      ],
      "text/plain": [
       "     compound    neg    neu    pos  \\\n",
       "16    -0.6152  0.240  0.621  0.139   \n",
       "44    -0.9883  0.238  0.680  0.082   \n",
       "93    -0.9800  0.227  0.619  0.154   \n",
       "105   -0.8452  0.211  0.664  0.125   \n",
       "22    -0.9846  0.208  0.679  0.113   \n",
       "86    -0.9886  0.198  0.682  0.121   \n",
       "65    -0.9636  0.194  0.721  0.085   \n",
       "101   -0.9807  0.193  0.712  0.095   \n",
       "117   -0.9489  0.189  0.677  0.134   \n",
       "149   -0.9967  0.186  0.708  0.106   \n",
       "\n",
       "                                                  text  \n",
       "16   the left has become totally unhinged they no l...  \n",
       "44     california has been forced to cancel the mas...  \n",
       "93   the republican party is the party of the ameri...  \n",
       "105  a must read andy mccarthys column today dirty ...  \n",
       "22   congratulations to mariano rivera on unanimous...  \n",
       "86    will be heading to grand rapids michigan toni...  \n",
       "65   wall street journal more migrant families cros...  \n",
       "101  great heroes  jobless claims at 50 year low i ...  \n",
       "117  beautiful trumprally tonight in green bay wisc...  \n",
       "149  how do you impeach a republican president for ...  "
      ]
     },
     "execution_count": 26,
     "metadata": {},
     "output_type": "execute_result"
    }
   ],
   "source": [
    "text_sent_df.sort_values(by='neg',ascending=False).head(10)"
   ]
  },
  {
   "cell_type": "code",
   "execution_count": 27,
   "metadata": {
    "scrolled": true
   },
   "outputs": [
    {
     "data": {
      "text/html": [
       "<div>\n",
       "<style scoped>\n",
       "    .dataframe tbody tr th:only-of-type {\n",
       "        vertical-align: middle;\n",
       "    }\n",
       "\n",
       "    .dataframe tbody tr th {\n",
       "        vertical-align: top;\n",
       "    }\n",
       "\n",
       "    .dataframe thead th {\n",
       "        text-align: right;\n",
       "    }\n",
       "</style>\n",
       "<table border=\"1\" class=\"dataframe\">\n",
       "  <thead>\n",
       "    <tr style=\"text-align: right;\">\n",
       "      <th></th>\n",
       "      <th>compound</th>\n",
       "      <th>neg</th>\n",
       "      <th>neu</th>\n",
       "      <th>pos</th>\n",
       "    </tr>\n",
       "  </thead>\n",
       "  <tbody>\n",
       "    <tr>\n",
       "      <th>count</th>\n",
       "      <td>181.000000</td>\n",
       "      <td>181.000000</td>\n",
       "      <td>181.000000</td>\n",
       "      <td>181.000000</td>\n",
       "    </tr>\n",
       "    <tr>\n",
       "      <th>mean</th>\n",
       "      <td>0.386555</td>\n",
       "      <td>0.111779</td>\n",
       "      <td>0.717983</td>\n",
       "      <td>0.159193</td>\n",
       "    </tr>\n",
       "    <tr>\n",
       "      <th>std</th>\n",
       "      <td>0.796151</td>\n",
       "      <td>0.047657</td>\n",
       "      <td>0.095980</td>\n",
       "      <td>0.062798</td>\n",
       "    </tr>\n",
       "    <tr>\n",
       "      <th>min</th>\n",
       "      <td>-0.996700</td>\n",
       "      <td>0.000000</td>\n",
       "      <td>0.000000</td>\n",
       "      <td>0.000000</td>\n",
       "    </tr>\n",
       "    <tr>\n",
       "      <th>25%</th>\n",
       "      <td>-0.469200</td>\n",
       "      <td>0.078000</td>\n",
       "      <td>0.690000</td>\n",
       "      <td>0.124000</td>\n",
       "    </tr>\n",
       "    <tr>\n",
       "      <th>50%</th>\n",
       "      <td>0.911600</td>\n",
       "      <td>0.112000</td>\n",
       "      <td>0.722000</td>\n",
       "      <td>0.156000</td>\n",
       "    </tr>\n",
       "    <tr>\n",
       "      <th>75%</th>\n",
       "      <td>0.985300</td>\n",
       "      <td>0.140000</td>\n",
       "      <td>0.758000</td>\n",
       "      <td>0.189000</td>\n",
       "    </tr>\n",
       "    <tr>\n",
       "      <th>max</th>\n",
       "      <td>0.999600</td>\n",
       "      <td>0.240000</td>\n",
       "      <td>1.000000</td>\n",
       "      <td>0.452000</td>\n",
       "    </tr>\n",
       "  </tbody>\n",
       "</table>\n",
       "</div>"
      ],
      "text/plain": [
       "         compound         neg         neu         pos\n",
       "count  181.000000  181.000000  181.000000  181.000000\n",
       "mean     0.386555    0.111779    0.717983    0.159193\n",
       "std      0.796151    0.047657    0.095980    0.062798\n",
       "min     -0.996700    0.000000    0.000000    0.000000\n",
       "25%     -0.469200    0.078000    0.690000    0.124000\n",
       "50%      0.911600    0.112000    0.722000    0.156000\n",
       "75%      0.985300    0.140000    0.758000    0.189000\n",
       "max      0.999600    0.240000    1.000000    0.452000"
      ]
     },
     "execution_count": 27,
     "metadata": {},
     "output_type": "execute_result"
    }
   ],
   "source": [
    "text_sent_df.describe()"
   ]
  },
  {
   "cell_type": "markdown",
   "metadata": {},
   "source": [
    "> Overall Trump's tweets tend to be neutral in sentiment. At least this is based on words used. Given his tone, the model might not be picking up on sarcasm. "
   ]
  },
  {
   "cell_type": "code",
   "execution_count": 28,
   "metadata": {},
   "outputs": [
    {
     "data": {
      "text/plain": [
       "<matplotlib.axes._subplots.AxesSubplot at 0x1a25379748>"
      ]
     },
     "execution_count": 28,
     "metadata": {},
     "output_type": "execute_result"
    },
    {
     "data": {
      "image/png": "[encoded data removed]",
      "text/plain": [
       "<Figure size 432x288 with 2 Axes>"
      ]
     },
     "metadata": {
      "needs_background": "light"
     },
     "output_type": "display_data"
    }
   ],
   "source": [
    "#Join the Contributions to the sentiment dataframe to look at correlations to contributions.\n",
    "text_sent_df= text_sent_df.join(contrib_df).drop([0])\n",
    "corr_heatmap(text_sent_df,'next_day_contributions',False)"
   ]
  },
  {
   "cell_type": "markdown",
   "metadata": {},
   "source": [
    "> Strangely, there doesn't look like much signal coming from the sentiment, contrary to the tf-idf analysis. There will not be enough signal here to run a model using the sentiment."
   ]
  },
  {
   "cell_type": "markdown",
   "metadata": {},
   "source": [
    "<a id='svd'></a>\n",
    "## Singular Value Decomposition(SVD) Analysis"
   ]
  },
  {
   "cell_type": "markdown",
   "metadata": {},
   "source": [
    "### LSA on TF-IDF Data  \n",
    "  \n",
    "> In this section LSA unsupervised learning is used to try determine the best way to combine features to explain variance in the data."
   ]
  },
  {
   "cell_type": "code",
   "execution_count": 29,
   "metadata": {},
   "outputs": [
    {
     "data": {
      "text/plain": [
       "(180, 175)"
      ]
     },
     "execution_count": 29,
     "metadata": {},
     "output_type": "execute_result"
    }
   ],
   "source": [
    "#Instantiate and fit an SVD on the Tf-Idf dataframe.\n",
    "SVD_tfidf= TruncatedSVD(n_components=175)\n",
    "svd_tfidf = SVD_tfidf.fit_transform(term_tfidf.drop(columns= 'next_day_contributions'))\n",
    "svd_tfidf.shape"
   ]
  },
  {
   "cell_type": "code",
   "execution_count": 30,
   "metadata": {
    "scrolled": false
   },
   "outputs": [
    {
     "data": {
      "image/png": "[encoded data removed]",
      "text/plain": [
       "<Figure size 1440x720 with 1 Axes>"
      ]
     },
     "metadata": {
      "needs_background": "light"
     },
     "output_type": "display_data"
    }
   ],
   "source": [
    "plot_exp_var(SVD_tfidf,175)"
   ]
  },
  {
   "cell_type": "markdown",
   "metadata": {},
   "source": [
    "> Even transformed into components that explain the most variance, there is not much signal to be had from the Tf-Idf information. "
   ]
  },
  {
   "cell_type": "code",
   "execution_count": 31,
   "metadata": {},
   "outputs": [],
   "source": [
    "#Create a dataframe to look at the weights of each feeature is going into each component.\n",
    "component_names = [\"component_\"+str(i+1) for i in range(175)]\n",
    "svd_df = pd.DataFrame(svd_tfidf,\n",
    "                      columns=component_names)\n",
    "\n",
    "#Transpose dataframe for readability\n",
    "loadings_tifdf = pd.DataFrame(SVD_tfidf.components_,\n",
    "                        index=component_names,\n",
    "                        columns=term_tfidf.drop(columns= 'next_day_contributions').columns).T\n",
    "\n",
    "loadings_tifdf['abs_component_1'] = np.abs(loadings_tifdf.component_1)\n",
    "loadings_tifdf['abs_component_2'] = np.abs(loadings_tifdf.component_2)\n",
    "loadings_tifdf['abs_component_3'] = np.abs(loadings_tifdf.component_3)"
   ]
  },
  {
   "cell_type": "code",
   "execution_count": 32,
   "metadata": {},
   "outputs": [
    {
     "data": {
      "text/html": [
       "<div>\n",
       "<style scoped>\n",
       "    .dataframe tbody tr th:only-of-type {\n",
       "        vertical-align: middle;\n",
       "    }\n",
       "\n",
       "    .dataframe tbody tr th {\n",
       "        vertical-align: top;\n",
       "    }\n",
       "\n",
       "    .dataframe thead th {\n",
       "        text-align: right;\n",
       "    }\n",
       "</style>\n",
       "<table border=\"1\" class=\"dataframe\">\n",
       "  <thead>\n",
       "    <tr style=\"text-align: right;\">\n",
       "      <th></th>\n",
       "      <th>component_1</th>\n",
       "    </tr>\n",
       "  </thead>\n",
       "  <tbody>\n",
       "    <tr>\n",
       "      <th>great</th>\n",
       "      <td>0.177754</td>\n",
       "    </tr>\n",
       "    <tr>\n",
       "      <th>amp</th>\n",
       "      <td>0.171677</td>\n",
       "    </tr>\n",
       "    <tr>\n",
       "      <th>border</th>\n",
       "      <td>0.140063</td>\n",
       "    </tr>\n",
       "    <tr>\n",
       "      <th>people</th>\n",
       "      <td>0.124025</td>\n",
       "    </tr>\n",
       "    <tr>\n",
       "      <th>democrats</th>\n",
       "      <td>0.123170</td>\n",
       "    </tr>\n",
       "    <tr>\n",
       "      <th>president</th>\n",
       "      <td>0.112561</td>\n",
       "    </tr>\n",
       "    <tr>\n",
       "      <th>country</th>\n",
       "      <td>0.099679</td>\n",
       "    </tr>\n",
       "    <tr>\n",
       "      <th>news</th>\n",
       "      <td>0.095969</td>\n",
       "    </tr>\n",
       "    <tr>\n",
       "      <th>fake</th>\n",
       "      <td>0.095857</td>\n",
       "    </tr>\n",
       "    <tr>\n",
       "      <th>just</th>\n",
       "      <td>0.093917</td>\n",
       "    </tr>\n",
       "  </tbody>\n",
       "</table>\n",
       "</div>"
      ],
      "text/plain": [
       "           component_1\n",
       "great         0.177754\n",
       "amp           0.171677\n",
       "border        0.140063\n",
       "people        0.124025\n",
       "democrats     0.123170\n",
       "president     0.112561\n",
       "country       0.099679\n",
       "news          0.095969\n",
       "fake          0.095857\n",
       "just          0.093917"
      ]
     },
     "execution_count": 32,
     "metadata": {},
     "output_type": "execute_result"
    }
   ],
   "source": [
    "# Top 10 words that contributes to component 1\n",
    "loadings_tifdf.sort_values('abs_component_1',ascending=False).head(10)[['component_1']]\n"
   ]
  },
  {
   "cell_type": "code",
   "execution_count": 33,
   "metadata": {
    "scrolled": true
   },
   "outputs": [
    {
     "data": {
      "text/html": [
       "<div>\n",
       "<style scoped>\n",
       "    .dataframe tbody tr th:only-of-type {\n",
       "        vertical-align: middle;\n",
       "    }\n",
       "\n",
       "    .dataframe tbody tr th {\n",
       "        vertical-align: top;\n",
       "    }\n",
       "\n",
       "    .dataframe thead th {\n",
       "        text-align: right;\n",
       "    }\n",
       "</style>\n",
       "<table border=\"1\" class=\"dataframe\">\n",
       "  <thead>\n",
       "    <tr style=\"text-align: right;\">\n",
       "      <th></th>\n",
       "      <th>component_2</th>\n",
       "    </tr>\n",
       "  </thead>\n",
       "  <tbody>\n",
       "    <tr>\n",
       "      <th>wall</th>\n",
       "      <td>0.227916</td>\n",
       "    </tr>\n",
       "    <tr>\n",
       "      <th>border</th>\n",
       "      <td>0.199741</td>\n",
       "    </tr>\n",
       "    <tr>\n",
       "      <th>security</th>\n",
       "      <td>0.130874</td>\n",
       "    </tr>\n",
       "    <tr>\n",
       "      <th>mueller</th>\n",
       "      <td>-0.126590</td>\n",
       "    </tr>\n",
       "    <tr>\n",
       "      <th>border security</th>\n",
       "      <td>0.125988</td>\n",
       "    </tr>\n",
       "    <tr>\n",
       "      <th>collusion</th>\n",
       "      <td>-0.119233</td>\n",
       "    </tr>\n",
       "    <tr>\n",
       "      <th>obstruction</th>\n",
       "      <td>-0.099583</td>\n",
       "    </tr>\n",
       "    <tr>\n",
       "      <th>southern border</th>\n",
       "      <td>0.091193</td>\n",
       "    </tr>\n",
       "    <tr>\n",
       "      <th>southern</th>\n",
       "      <td>0.089727</td>\n",
       "    </tr>\n",
       "    <tr>\n",
       "      <th>built</th>\n",
       "      <td>0.084455</td>\n",
       "    </tr>\n",
       "  </tbody>\n",
       "</table>\n",
       "</div>"
      ],
      "text/plain": [
       "                 component_2\n",
       "wall                0.227916\n",
       "border              0.199741\n",
       "security            0.130874\n",
       "mueller            -0.126590\n",
       "border security     0.125988\n",
       "collusion          -0.119233\n",
       "obstruction        -0.099583\n",
       "southern border     0.091193\n",
       "southern            0.089727\n",
       "built               0.084455"
      ]
     },
     "execution_count": 33,
     "metadata": {},
     "output_type": "execute_result"
    }
   ],
   "source": [
    "# Top 10 words that contributes to component 2\n",
    "loadings_tifdf.sort_values('abs_component_2',ascending=False).head(10)[['component_2']]"
   ]
  },
  {
   "cell_type": "code",
   "execution_count": 34,
   "metadata": {
    "scrolled": true
   },
   "outputs": [
    {
     "data": {
      "text/html": [
       "<div>\n",
       "<style scoped>\n",
       "    .dataframe tbody tr th:only-of-type {\n",
       "        vertical-align: middle;\n",
       "    }\n",
       "\n",
       "    .dataframe tbody tr th {\n",
       "        vertical-align: top;\n",
       "    }\n",
       "\n",
       "    .dataframe thead th {\n",
       "        text-align: right;\n",
       "    }\n",
       "</style>\n",
       "<table border=\"1\" class=\"dataframe\">\n",
       "  <thead>\n",
       "    <tr style=\"text-align: right;\">\n",
       "      <th></th>\n",
       "      <th>component_3</th>\n",
       "    </tr>\n",
       "  </thead>\n",
       "  <tbody>\n",
       "    <tr>\n",
       "      <th>china</th>\n",
       "      <td>0.332815</td>\n",
       "    </tr>\n",
       "    <tr>\n",
       "      <th>tariffs</th>\n",
       "      <td>0.128599</td>\n",
       "    </tr>\n",
       "    <tr>\n",
       "      <th>border</th>\n",
       "      <td>-0.117477</td>\n",
       "    </tr>\n",
       "    <tr>\n",
       "      <th>billion</th>\n",
       "      <td>0.111699</td>\n",
       "    </tr>\n",
       "    <tr>\n",
       "      <th>billion dollars</th>\n",
       "      <td>0.105849</td>\n",
       "    </tr>\n",
       "    <tr>\n",
       "      <th>dollars</th>\n",
       "      <td>0.094483</td>\n",
       "    </tr>\n",
       "    <tr>\n",
       "      <th>farmers</th>\n",
       "      <td>0.084710</td>\n",
       "    </tr>\n",
       "    <tr>\n",
       "      <th>democrats</th>\n",
       "      <td>-0.084574</td>\n",
       "    </tr>\n",
       "    <tr>\n",
       "      <th>buy</th>\n",
       "      <td>0.084445</td>\n",
       "    </tr>\n",
       "    <tr>\n",
       "      <th>deal</th>\n",
       "      <td>0.076494</td>\n",
       "    </tr>\n",
       "  </tbody>\n",
       "</table>\n",
       "</div>"
      ],
      "text/plain": [
       "                 component_3\n",
       "china               0.332815\n",
       "tariffs             0.128599\n",
       "border             -0.117477\n",
       "billion             0.111699\n",
       "billion dollars     0.105849\n",
       "dollars             0.094483\n",
       "farmers             0.084710\n",
       "democrats          -0.084574\n",
       "buy                 0.084445\n",
       "deal                0.076494"
      ]
     },
     "execution_count": 34,
     "metadata": {},
     "output_type": "execute_result"
    }
   ],
   "source": [
    "# Top 10 words that contributes to component 3\n",
    "loadings_tifdf.sort_values('abs_component_3',ascending=False).head(10)[['component_3']]"
   ]
  },
  {
   "cell_type": "markdown",
   "metadata": {},
   "source": [
    "> Above are the top 10 words that go into the first three components that explain the most variance in the data."
   ]
  },
  {
   "cell_type": "markdown",
   "metadata": {},
   "source": [
    "### LSA on CVEC  \n",
    "> Similar to the tf-idf LSA analysis above, the countvectorized tweets appeared to have correlations to the campaign contributions. If this is the case maybe combining them into components could help build a better predictor of what words are best used to raise funds."
   ]
  },
  {
   "cell_type": "code",
   "execution_count": 35,
   "metadata": {},
   "outputs": [
    {
     "data": {
      "text/plain": [
       "(180, 150)"
      ]
     },
     "execution_count": 35,
     "metadata": {},
     "output_type": "execute_result"
    }
   ],
   "source": [
    "SVD = TruncatedSVD(n_components=150)\n",
    "svd_matrix = SVD.fit_transform(term_df.drop(columns= 'next_day_contributions'))\n",
    "svd_matrix.shape"
   ]
  },
  {
   "cell_type": "code",
   "execution_count": 36,
   "metadata": {
    "scrolled": false
   },
   "outputs": [
    {
     "data": {
      "image/png": "[encoded data removed]",
      "text/plain": [
       "<Figure size 1440x720 with 1 Axes>"
      ]
     },
     "metadata": {
      "needs_background": "light"
     },
     "output_type": "display_data"
    }
   ],
   "source": [
    "plot_exp_var(SVD,150)"
   ]
  },
  {
   "cell_type": "markdown",
   "metadata": {},
   "source": [
    "> There appears to be more signal to be gained from the LSA on the countvectorized tweets than the tf-idf tweets data. Especially from the first two components, but even the top 20 look to have some information."
   ]
  },
  {
   "cell_type": "code",
   "execution_count": 37,
   "metadata": {},
   "outputs": [
    {
     "data": {
      "text/plain": [
       "125"
      ]
     },
     "execution_count": 37,
     "metadata": {},
     "output_type": "execute_result"
    }
   ],
   "source": [
    "# How many components do we need to represent at leat %95 of the variance in the data?\n",
    "np.where(np.cumsum(SVD.explained_variance_ratio_) < .95)[0][-1]+1"
   ]
  },
  {
   "cell_type": "code",
   "execution_count": 38,
   "metadata": {},
   "outputs": [],
   "source": [
    "component_names = [\"component_\"+str(i+1) for i in range(150)]\n",
    "#Create a dataframe to look at the weights of each feeature is going into each component.\n",
    "svd_df = pd.DataFrame(svd_matrix,\n",
    "                      columns=component_names)\n",
    "\n",
    "loadings = pd.DataFrame(SVD.components_,\n",
    "                        index=component_names,\n",
    "                        columns=term_df.drop(columns= 'next_day_contributions').columns).T\n",
    "\n",
    "loadings['abs_component_1'] = np.abs(loadings.component_1)\n",
    "loadings['abs_component_2'] = np.abs(loadings.component_2)\n",
    "loadings['abs_component_3'] = np.abs(loadings.component_3)"
   ]
  },
  {
   "cell_type": "code",
   "execution_count": 39,
   "metadata": {},
   "outputs": [
    {
     "data": {
      "text/html": [
       "<div>\n",
       "<style scoped>\n",
       "    .dataframe tbody tr th:only-of-type {\n",
       "        vertical-align: middle;\n",
       "    }\n",
       "\n",
       "    .dataframe tbody tr th {\n",
       "        vertical-align: top;\n",
       "    }\n",
       "\n",
       "    .dataframe thead th {\n",
       "        text-align: right;\n",
       "    }\n",
       "</style>\n",
       "<table border=\"1\" class=\"dataframe\">\n",
       "  <thead>\n",
       "    <tr style=\"text-align: right;\">\n",
       "      <th></th>\n",
       "      <th>component_1</th>\n",
       "    </tr>\n",
       "  </thead>\n",
       "  <tbody>\n",
       "    <tr>\n",
       "      <th>great</th>\n",
       "      <td>0.349794</td>\n",
       "    </tr>\n",
       "    <tr>\n",
       "      <th>amp</th>\n",
       "      <td>0.336806</td>\n",
       "    </tr>\n",
       "    <tr>\n",
       "      <th>china</th>\n",
       "      <td>0.192415</td>\n",
       "    </tr>\n",
       "    <tr>\n",
       "      <th>people</th>\n",
       "      <td>0.189924</td>\n",
       "    </tr>\n",
       "    <tr>\n",
       "      <th>president</th>\n",
       "      <td>0.180302</td>\n",
       "    </tr>\n",
       "    <tr>\n",
       "      <th>democrats</th>\n",
       "      <td>0.178627</td>\n",
       "    </tr>\n",
       "    <tr>\n",
       "      <th>border</th>\n",
       "      <td>0.174216</td>\n",
       "    </tr>\n",
       "    <tr>\n",
       "      <th>just</th>\n",
       "      <td>0.149025</td>\n",
       "    </tr>\n",
       "    <tr>\n",
       "      <th>country</th>\n",
       "      <td>0.147425</td>\n",
       "    </tr>\n",
       "    <tr>\n",
       "      <th>news</th>\n",
       "      <td>0.121242</td>\n",
       "    </tr>\n",
       "  </tbody>\n",
       "</table>\n",
       "</div>"
      ],
      "text/plain": [
       "           component_1\n",
       "great         0.349794\n",
       "amp           0.336806\n",
       "china         0.192415\n",
       "people        0.189924\n",
       "president     0.180302\n",
       "democrats     0.178627\n",
       "border        0.174216\n",
       "just          0.149025\n",
       "country       0.147425\n",
       "news          0.121242"
      ]
     },
     "execution_count": 39,
     "metadata": {},
     "output_type": "execute_result"
    }
   ],
   "source": [
    "# Top 10 words that contributes to component 1\n",
    "loadings.sort_values('abs_component_1',ascending=False).head(10)[['component_1']]\n"
   ]
  },
  {
   "cell_type": "code",
   "execution_count": 40,
   "metadata": {},
   "outputs": [
    {
     "data": {
      "text/html": [
       "<div>\n",
       "<style scoped>\n",
       "    .dataframe tbody tr th:only-of-type {\n",
       "        vertical-align: middle;\n",
       "    }\n",
       "\n",
       "    .dataframe tbody tr th {\n",
       "        vertical-align: top;\n",
       "    }\n",
       "\n",
       "    .dataframe thead th {\n",
       "        text-align: right;\n",
       "    }\n",
       "</style>\n",
       "<table border=\"1\" class=\"dataframe\">\n",
       "  <thead>\n",
       "    <tr style=\"text-align: right;\">\n",
       "      <th></th>\n",
       "      <th>component_2</th>\n",
       "    </tr>\n",
       "  </thead>\n",
       "  <tbody>\n",
       "    <tr>\n",
       "      <th>china</th>\n",
       "      <td>0.562738</td>\n",
       "    </tr>\n",
       "    <tr>\n",
       "      <th>tariffs</th>\n",
       "      <td>0.270058</td>\n",
       "    </tr>\n",
       "    <tr>\n",
       "      <th>billion</th>\n",
       "      <td>0.266345</td>\n",
       "    </tr>\n",
       "    <tr>\n",
       "      <th>dollars</th>\n",
       "      <td>0.257473</td>\n",
       "    </tr>\n",
       "    <tr>\n",
       "      <th>products</th>\n",
       "      <td>0.195266</td>\n",
       "    </tr>\n",
       "    <tr>\n",
       "      <th>farmers</th>\n",
       "      <td>0.174437</td>\n",
       "    </tr>\n",
       "    <tr>\n",
       "      <th>border</th>\n",
       "      <td>-0.164987</td>\n",
       "    </tr>\n",
       "    <tr>\n",
       "      <th>democrats</th>\n",
       "      <td>-0.134907</td>\n",
       "    </tr>\n",
       "    <tr>\n",
       "      <th>people</th>\n",
       "      <td>-0.134774</td>\n",
       "    </tr>\n",
       "    <tr>\n",
       "      <th>deal</th>\n",
       "      <td>0.120235</td>\n",
       "    </tr>\n",
       "  </tbody>\n",
       "</table>\n",
       "</div>"
      ],
      "text/plain": [
       "           component_2\n",
       "china         0.562738\n",
       "tariffs       0.270058\n",
       "billion       0.266345\n",
       "dollars       0.257473\n",
       "products      0.195266\n",
       "farmers       0.174437\n",
       "border       -0.164987\n",
       "democrats    -0.134907\n",
       "people       -0.134774\n",
       "deal          0.120235"
      ]
     },
     "execution_count": 40,
     "metadata": {},
     "output_type": "execute_result"
    }
   ],
   "source": [
    "# Top 10 words that contributes to component 2\n",
    "loadings.sort_values('abs_component_2',ascending=False).head(10)[['component_2']]\n"
   ]
  },
  {
   "cell_type": "code",
   "execution_count": 41,
   "metadata": {
    "scrolled": true
   },
   "outputs": [
    {
     "data": {
      "text/html": [
       "<div>\n",
       "<style scoped>\n",
       "    .dataframe tbody tr th:only-of-type {\n",
       "        vertical-align: middle;\n",
       "    }\n",
       "\n",
       "    .dataframe tbody tr th {\n",
       "        vertical-align: top;\n",
       "    }\n",
       "\n",
       "    .dataframe thead th {\n",
       "        text-align: right;\n",
       "    }\n",
       "</style>\n",
       "<table border=\"1\" class=\"dataframe\">\n",
       "  <thead>\n",
       "    <tr style=\"text-align: right;\">\n",
       "      <th></th>\n",
       "      <th>component_3</th>\n",
       "    </tr>\n",
       "  </thead>\n",
       "  <tbody>\n",
       "    <tr>\n",
       "      <th>border</th>\n",
       "      <td>-0.371684</td>\n",
       "    </tr>\n",
       "    <tr>\n",
       "      <th>mexico</th>\n",
       "      <td>-0.253509</td>\n",
       "    </tr>\n",
       "    <tr>\n",
       "      <th>president</th>\n",
       "      <td>0.249061</td>\n",
       "    </tr>\n",
       "    <tr>\n",
       "      <th>amp</th>\n",
       "      <td>-0.225001</td>\n",
       "    </tr>\n",
       "    <tr>\n",
       "      <th>china</th>\n",
       "      <td>0.220546</td>\n",
       "    </tr>\n",
       "    <tr>\n",
       "      <th>wall</th>\n",
       "      <td>-0.206500</td>\n",
       "    </tr>\n",
       "    <tr>\n",
       "      <th>great</th>\n",
       "      <td>0.191932</td>\n",
       "    </tr>\n",
       "    <tr>\n",
       "      <th>trump</th>\n",
       "      <td>0.182112</td>\n",
       "    </tr>\n",
       "    <tr>\n",
       "      <th>dollars</th>\n",
       "      <td>-0.158499</td>\n",
       "    </tr>\n",
       "    <tr>\n",
       "      <th>billion</th>\n",
       "      <td>-0.141205</td>\n",
       "    </tr>\n",
       "  </tbody>\n",
       "</table>\n",
       "</div>"
      ],
      "text/plain": [
       "           component_3\n",
       "border       -0.371684\n",
       "mexico       -0.253509\n",
       "president     0.249061\n",
       "amp          -0.225001\n",
       "china         0.220546\n",
       "wall         -0.206500\n",
       "great         0.191932\n",
       "trump         0.182112\n",
       "dollars      -0.158499\n",
       "billion      -0.141205"
      ]
     },
     "execution_count": 41,
     "metadata": {},
     "output_type": "execute_result"
    }
   ],
   "source": [
    "# Top 10 words that contributes to component 3\n",
    "loadings.sort_values('abs_component_3',ascending=False).head(10)[['component_3']]"
   ]
  },
  {
   "cell_type": "markdown",
   "metadata": {},
   "source": [
    "> Talking about China and the democrats definitely seem to have signal across all components. Regardless it is interesting to see what each component is made of. There looks like there may be enough signal in this data to run a model on. "
   ]
  },
  {
   "cell_type": "markdown",
   "metadata": {},
   "source": [
    "<a id='csv'></a>\n",
    "## Export CSV files of datasets to run predictive models on"
   ]
  },
  {
   "cell_type": "code",
   "execution_count": 42,
   "metadata": {},
   "outputs": [],
   "source": [
    "#Export the feature engineered dataset.\n",
    "df.to_csv('../datasets/frequency_dataset.csv',index_label=False)"
   ]
  },
  {
   "cell_type": "code",
   "execution_count": 43,
   "metadata": {},
   "outputs": [],
   "source": [
    "#Export the countvector LSA component dataset.\n",
    "#Merge the svd dataframe with the contributions associated with each feature.\n",
    "new_df= svd_df.merge(contrib_df,right_index=True,left_index=True)\n",
    "new_df.to_csv('../datasets/lsa_dataset.csv',index_label=False)"
   ]
  },
  {
   "cell_type": "markdown",
   "metadata": {},
   "source": [
    "<a id='conclusions'></a>\n",
    "## Conclusions  \n",
    "  \n",
    "Based upon the exploratory data analysis there seemed to be some correlations between Trump's tweets and his campaign contributions. There were a few surprises, based upon visual interpretation of the bag-of-words analysis it seemed as though there might be signal in Trump's sentiment. However, after a sentiment analysis there didn't seem to be any correlation to his ability to raise money.  \n",
    "\n",
    "The features that will be used to run predictive models on will be the frequency and times of his tweets from feature engineering and the countvectorized tweets. The reasoning for these choices is that the tweet number of likes and times have correlations that match intuition. If people are driven to like his tweets by his frequncy and timing of his post, they should be more motivated to contribute to his campaign.  \n",
    "\n",
    "For the countvectorized tweets, I will be using the LSA components. The rationale behind this is that it contains all most of the information held in the full countvecotiaed tweet with less features. This will hopefully combat over-fitting in the model.  \n",
    "\n",
    "Continue to next notebook for the modeling process."
   ]
  }
 ],
 "metadata": {
  "kernelspec": {
   "display_name": "Python 3",
   "language": "python",
   "name": "python3"
  },
  "language_info": {
   "codemirror_mode": {
    "name": "ipython",
    "version": 3
   },
   "file_extension": ".py",
   "mimetype": "text/x-python",
   "name": "python",
   "nbconvert_exporter": "python",
   "pygments_lexer": "ipython3",
   "version": "3.7.1"
  }
 },
 "nbformat": 4,
 "nbformat_minor": 2
}
